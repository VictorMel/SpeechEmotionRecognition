{
 "cells": [
  {
   "cell_type": "code",
   "execution_count": null,
   "metadata": {},
   "outputs": [],
   "source": [
    "# Install Packages\n",
    "!pip install kaggle --upgrade --quiet\n",
    "!pip install opendatasets --upgrade --quiet\n",
    "!pip install librosa --upgrade --quiet\n",
    "!pip install noisereduce --upgrade --quiet"
   ]
  },
  {
   "cell_type": "code",
   "execution_count": null,
   "metadata": {},
   "outputs": [],
   "source": [
    "import pandas as pd\n",
    "import numpy as np\n",
    "from tqdm.auto import tqdm\n",
    "import os\n",
    "import opendatasets as od\n",
    "import csv\n",
    "\n",
    "import matplotlib.pyplot as plt\n",
    "import seaborn as sns\n",
    "sns.set_style('darkgrid')\n",
    "import seaborn as sns\n",
    "import noisereduce as nr\n",
    "from IPython.display import Audio\n",
    "import librosa\n",
    "import librosa.display\n",
    "import wave\n",
    "\n",
    "from sklearn.preprocessing import StandardScaler, OneHotEncoder\n",
    "from sklearn.metrics import confusion_matrix, classification_report\n",
    "from sklearn.model_selection import train_test_split\n",
    "\n",
    "import prjLib as lib\n",
    "import VictorLib as vic\n",
    "\n",
    "import warnings\n",
    "warnings.filterwarnings ('ignore')"
   ]
  },
  {
   "cell_type": "code",
   "execution_count": null,
   "metadata": {},
   "outputs": [],
   "source": [
    "# Parameters\n",
    "\n",
    "FRAME_LEN = 2048 # 4096\n",
    "HOP_LEN = 512 # 2048\n",
    "N = 128\n",
    "\n",
    "FIGX = 14\n",
    "FIGY = 2"
   ]
  },
  {
   "cell_type": "code",
   "execution_count": null,
   "metadata": {},
   "outputs": [],
   "source": [
    "# Test Logistic Regression\n",
    "oLR = LogisticRegression(random_state=0)\n",
    "oLR.fit(speech_data_features, speech_label_array)\n",
    "oLR.coef_.shape\n",
    "plt.figure(figsize=(14, 6))\n",
    "plt.plot(oLR.coef_[0,:],label='neutral')\n",
    "plt.plot(oLR.coef_[1,:],label='calm')\n",
    "plt.plot(oLR.coef_[2,:],label='happy')\n",
    "plt.plot(oLR.coef_[3,:],label='sad')\n",
    "plt.plot(oLR.coef_[4,:],label='angry')\n",
    "plt.plot(oLR.coef_[5,:],label='fearful')\n",
    "plt.plot(oLR.coef_[6,:],label='disgust')\n",
    "plt.plot(oLR.coef_[7,:],label='surprised')\n",
    "plt.legend()\n",
    "plt.show()"
   ]
  }
 ],
 "metadata": {
  "language_info": {
   "name": "python"
  }
 },
 "nbformat": 4,
 "nbformat_minor": 2
}
