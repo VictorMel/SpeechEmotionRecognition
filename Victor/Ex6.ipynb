{
 "cells": [
  {
   "cell_type": "code",
   "execution_count": null,
   "metadata": {},
   "outputs": [],
   "source": [
    "! pip install optuna --upgrade --quiet\n",
    "! pip install optuna-dashboard --upgrade --quiet\n",
    "! optuna-dashboard sqlite:///db.sqlite3 --upgrade --quiet"
   ]
  },
  {
   "cell_type": "code",
   "execution_count": 1,
   "metadata": {},
   "outputs": [
    {
     "name": "stderr",
     "output_type": "stream",
     "text": [
      "[I 2024-04-28 20:04:31,245] A new study created in RDB with name: quadratic-simple\n",
      "[I 2024-04-28 20:04:31,388] Trial 0 finished with value: 2344.39585561734 and parameters: {'x': -48.41896173625928, 'y': 0}. Best is trial 0 with value: 2344.39585561734.\n",
      "[I 2024-04-28 20:04:31,473] Trial 1 finished with value: 2657.7173532416073 and parameters: {'x': -51.55305377222194, 'y': 0}. Best is trial 0 with value: 2344.39585561734.\n",
      "[I 2024-04-28 20:04:31,550] Trial 2 finished with value: 7033.71124737237 and parameters: {'x': 83.87318550867357, 'y': -1}. Best is trial 0 with value: 2344.39585561734.\n",
      "[I 2024-04-28 20:04:31,630] Trial 3 finished with value: 4586.3298285593155 and parameters: {'x': 67.72244700658206, 'y': 0}. Best is trial 0 with value: 2344.39585561734.\n",
      "[I 2024-04-28 20:04:31,715] Trial 4 finished with value: 4722.617516242777 and parameters: {'x': 68.72130321990974, 'y': 0}. Best is trial 0 with value: 2344.39585561734.\n",
      "[I 2024-04-28 20:04:31,795] Trial 5 finished with value: 88.7961193146219 and parameters: {'x': -9.476081432460461, 'y': -1}. Best is trial 5 with value: 88.7961193146219.\n",
      "[I 2024-04-28 20:04:31,900] Trial 6 finished with value: 1825.438642938379 and parameters: {'x': -42.72515234540866, 'y': 0}. Best is trial 5 with value: 88.7961193146219.\n",
      "[I 2024-04-28 20:04:31,977] Trial 7 finished with value: 603.9272362988131 and parameters: {'x': -24.55457668742862, 'y': 1}. Best is trial 5 with value: 88.7961193146219.\n",
      "[I 2024-04-28 20:04:32,060] Trial 8 finished with value: 3236.5567442078673 and parameters: {'x': 56.89074392383938, 'y': 0}. Best is trial 5 with value: 88.7961193146219.\n",
      "[I 2024-04-28 20:04:32,198] Trial 9 finished with value: 2514.750040051309 and parameters: {'x': -50.137311855057696, 'y': 1}. Best is trial 5 with value: 88.7961193146219.\n",
      "[I 2024-04-28 20:04:32,285] Trial 10 finished with value: 9103.31587092983 and parameters: {'x': -95.4165387704345, 'y': -1}. Best is trial 5 with value: 88.7961193146219.\n",
      "[I 2024-04-28 20:04:32,376] Trial 11 finished with value: 171.585997355171 and parameters: {'x': 13.060857450993446, 'y': 1}. Best is trial 5 with value: 88.7961193146219.\n",
      "[I 2024-04-28 20:04:32,459] Trial 12 finished with value: 451.85860731372765 and parameters: {'x': 21.23343135985627, 'y': 1}. Best is trial 5 with value: 88.7961193146219.\n",
      "[I 2024-04-28 20:04:32,532] Trial 13 finished with value: 242.55041536062666 and parameters: {'x': 15.606101863073516, 'y': -1}. Best is trial 5 with value: 88.7961193146219.\n",
      "[I 2024-04-28 20:04:32,633] Trial 14 finished with value: 1.5499842901220622 and parameters: {'x': -0.7416092570363872, 'y': 1}. Best is trial 14 with value: 1.5499842901220622.\n",
      "[I 2024-04-28 20:04:32,723] Trial 15 finished with value: 84.57815090396356 and parameters: {'x': -9.250845956125502, 'y': -1}. Best is trial 14 with value: 1.5499842901220622.\n",
      "[I 2024-04-28 20:04:32,806] Trial 16 finished with value: 1177.145577102096 and parameters: {'x': 34.29497889053288, 'y': 1}. Best is trial 14 with value: 1.5499842901220622.\n",
      "[I 2024-04-28 20:04:32,882] Trial 17 finished with value: 6492.225974597149 and parameters: {'x': -80.58055580968121, 'y': -1}. Best is trial 14 with value: 1.5499842901220622.\n",
      "[I 2024-04-28 20:04:32,970] Trial 18 finished with value: 286.41983016770604 and parameters: {'x': -16.953460713603757, 'y': -1}. Best is trial 14 with value: 1.5499842901220622.\n",
      "[I 2024-04-28 20:04:33,052] Trial 19 finished with value: 1.0003813381853845 and parameters: {'x': -0.019527882255498952, 'y': 1}. Best is trial 19 with value: 1.0003813381853845.\n",
      "[I 2024-04-28 20:04:33,138] Trial 20 finished with value: 1732.00995795431 and parameters: {'x': 41.60540779699569, 'y': 1}. Best is trial 19 with value: 1.0003813381853845.\n",
      "[I 2024-04-28 20:04:33,256] Trial 21 finished with value: 568.3819951456206 and parameters: {'x': -23.819781593155312, 'y': 1}. Best is trial 19 with value: 1.0003813381853845.\n",
      "[I 2024-04-28 20:04:33,342] Trial 22 finished with value: 1.1836672472360572 and parameters: {'x': 0.4285641693329685, 'y': 1}. Best is trial 19 with value: 1.0003813381853845.\n",
      "[I 2024-04-28 20:04:33,424] Trial 23 finished with value: 18.423650594962364 and parameters: {'x': 4.174164658343315, 'y': 1}. Best is trial 19 with value: 1.0003813381853845.\n",
      "[I 2024-04-28 20:04:33,504] Trial 24 finished with value: 1156.100325858628 and parameters: {'x': 33.986766922710196, 'y': 1}. Best is trial 19 with value: 1.0003813381853845.\n",
      "[I 2024-04-28 20:04:33,589] Trial 25 finished with value: 1097.5733606212154 and parameters: {'x': -33.11454907772738, 'y': 1}. Best is trial 19 with value: 1.0003813381853845.\n",
      "[I 2024-04-28 20:04:33,670] Trial 26 finished with value: 1.9085207423756314 and parameters: {'x': 0.9531635444012907, 'y': 1}. Best is trial 19 with value: 1.0003813381853845.\n",
      "[I 2024-04-28 20:04:33,749] Trial 27 finished with value: 604.9121176491692 and parameters: {'x': 24.574623448776773, 'y': 1}. Best is trial 19 with value: 1.0003813381853845.\n",
      "[I 2024-04-28 20:04:33,843] Trial 28 finished with value: 2231.516940106154 and parameters: {'x': 47.228348903028085, 'y': 1}. Best is trial 19 with value: 1.0003813381853845.\n",
      "[I 2024-04-28 20:04:33,928] Trial 29 finished with value: 4932.329528957519 and parameters: {'x': -70.22342578482994, 'y': 1}. Best is trial 19 with value: 1.0003813381853845.\n",
      "[I 2024-04-28 20:04:34,040] Trial 30 finished with value: 8.844910073885172 and parameters: {'x': 2.8008766616695517, 'y': 1}. Best is trial 19 with value: 1.0003813381853845.\n",
      "[I 2024-04-28 20:04:34,120] Trial 31 finished with value: 13.5752412388975 and parameters: {'x': -3.546158659577642, 'y': 1}. Best is trial 19 with value: 1.0003813381853845.\n",
      "[I 2024-04-28 20:04:34,212] Trial 32 finished with value: 142.02540385565626 and parameters: {'x': 11.875411734152895, 'y': 1}. Best is trial 19 with value: 1.0003813381853845.\n",
      "[I 2024-04-28 20:04:34,304] Trial 33 finished with value: 1329.4702767174224 and parameters: {'x': -36.44818619242146, 'y': 1}. Best is trial 19 with value: 1.0003813381853845.\n",
      "[I 2024-04-28 20:04:34,385] Trial 34 finished with value: 309.32263415905453 and parameters: {'x': -17.55911826257385, 'y': 1}. Best is trial 19 with value: 1.0003813381853845.\n",
      "[I 2024-04-28 20:04:34,462] Trial 35 finished with value: 8784.63784213096 and parameters: {'x': 93.72106402581524, 'y': 1}. Best is trial 19 with value: 1.0003813381853845.\n",
      "[I 2024-04-28 20:04:34,548] Trial 36 finished with value: 28.608799311811417 and parameters: {'x': 5.34871940858851, 'y': 0}. Best is trial 19 with value: 1.0003813381853845.\n",
      "[I 2024-04-28 20:04:34,634] Trial 37 finished with value: 3927.881301169182 and parameters: {'x': -62.664833049878794, 'y': 1}. Best is trial 19 with value: 1.0003813381853845.\n",
      "[I 2024-04-28 20:04:34,736] Trial 38 finished with value: 647.7557872834396 and parameters: {'x': 25.45104687991124, 'y': 0}. Best is trial 19 with value: 1.0003813381853845.\n",
      "[I 2024-04-28 20:04:34,823] Trial 39 finished with value: 55.20793013239368 and parameters: {'x': -7.3626034887391345, 'y': 1}. Best is trial 19 with value: 1.0003813381853845.\n",
      "[I 2024-04-28 20:04:34,912] Trial 40 finished with value: 757.0542260552271 and parameters: {'x': -27.49644024333381, 'y': 1}. Best is trial 19 with value: 1.0003813381853845.\n",
      "[I 2024-04-28 20:04:34,992] Trial 41 finished with value: 3.205811459357485 and parameters: {'x': 1.485197447936632, 'y': 1}. Best is trial 19 with value: 1.0003813381853845.\n",
      "[I 2024-04-28 20:04:35,068] Trial 42 finished with value: 232.4436584999805 and parameters: {'x': -15.21327244546618, 'y': 1}. Best is trial 19 with value: 1.0003813381853845.\n",
      "[I 2024-04-28 20:04:35,178] Trial 43 finished with value: 5.131597350448969 and parameters: {'x': -2.03263310768298, 'y': 1}. Best is trial 19 with value: 1.0003813381853845.\n",
      "[I 2024-04-28 20:04:35,263] Trial 44 finished with value: 1851.1618097880455 and parameters: {'x': -43.02512997990878, 'y': 0}. Best is trial 19 with value: 1.0003813381853845.\n",
      "[I 2024-04-28 20:04:35,337] Trial 45 finished with value: 63.92382463053451 and parameters: {'x': 7.9324538845513946, 'y': 1}. Best is trial 19 with value: 1.0003813381853845.\n",
      "[I 2024-04-28 20:04:35,424] Trial 46 finished with value: 4954.521467897646 and parameters: {'x': 70.38125793062842, 'y': 1}. Best is trial 19 with value: 1.0003813381853845.\n",
      "[I 2024-04-28 20:04:35,512] Trial 47 finished with value: 556.5731545950081 and parameters: {'x': 23.57059936859918, 'y': 1}. Best is trial 19 with value: 1.0003813381853845.\n",
      "[I 2024-04-28 20:04:35,583] Trial 48 finished with value: 256.6374964582794 and parameters: {'x': 16.019909377342913, 'y': 0}. Best is trial 19 with value: 1.0003813381853845.\n",
      "[I 2024-04-28 20:04:35,667] Trial 49 finished with value: 143.6315435126024 and parameters: {'x': -12.026285524325555, 'y': -1}. Best is trial 19 with value: 1.0003813381853845.\n",
      "[I 2024-04-28 20:04:35,762] Trial 50 finished with value: 1208.0482763411433 and parameters: {'x': 34.742600310586184, 'y': 1}. Best is trial 19 with value: 1.0003813381853845.\n",
      "[I 2024-04-28 20:04:35,849] Trial 51 finished with value: 45.36925668948078 and parameters: {'x': -6.661025198081807, 'y': 1}. Best is trial 19 with value: 1.0003813381853845.\n",
      "[I 2024-04-28 20:04:35,922] Trial 52 finished with value: 1.6762368490955075 and parameters: {'x': -0.8223362141457151, 'y': 1}. Best is trial 19 with value: 1.0003813381853845.\n",
      "[I 2024-04-28 20:04:36,006] Trial 53 finished with value: 509.54397318999366 and parameters: {'x': -22.55091956417728, 'y': 1}. Best is trial 19 with value: 1.0003813381853845.\n",
      "[I 2024-04-28 20:04:36,090] Trial 54 finished with value: 315.46069004206294 and parameters: {'x': 17.733039503764235, 'y': 1}. Best is trial 19 with value: 1.0003813381853845.\n",
      "[I 2024-04-28 20:04:36,179] Trial 55 finished with value: 1.3517736741996051 and parameters: {'x': -0.5931051122689848, 'y': 1}. Best is trial 19 with value: 1.0003813381853845.\n",
      "[I 2024-04-28 20:04:36,264] Trial 56 finished with value: 88.43143232309477 and parameters: {'x': 9.350477652136, 'y': 1}. Best is trial 19 with value: 1.0003813381853845.\n",
      "[I 2024-04-28 20:04:36,348] Trial 57 finished with value: 5.075384785741921 and parameters: {'x': -2.464829565252316, 'y': -1}. Best is trial 19 with value: 1.0003813381853845.\n",
      "[I 2024-04-28 20:04:36,431] Trial 58 finished with value: 804.0657410667592 and parameters: {'x': 28.338414582801896, 'y': 1}. Best is trial 19 with value: 1.0003813381853845.\n",
      "[I 2024-04-28 20:04:36,503] Trial 59 finished with value: 991.0023110912161 and parameters: {'x': -31.46430217073336, 'y': 1}. Best is trial 19 with value: 1.0003813381853845.\n",
      "[I 2024-04-28 20:04:36,585] Trial 60 finished with value: 384.4857169759528 and parameters: {'x': -19.582791347914444, 'y': 1}. Best is trial 19 with value: 1.0003813381853845.\n",
      "[I 2024-04-28 20:04:36,670] Trial 61 finished with value: 11.122836257882266 and parameters: {'x': 3.181640497900771, 'y': 1}. Best is trial 19 with value: 1.0003813381853845.\n",
      "[I 2024-04-28 20:04:36,745] Trial 62 finished with value: 74.87164117368927 and parameters: {'x': -8.594861323703208, 'y': 1}. Best is trial 19 with value: 1.0003813381853845.\n",
      "[I 2024-04-28 20:04:36,821] Trial 63 finished with value: 125.68212185882814 and parameters: {'x': 11.166114895469603, 'y': 1}. Best is trial 19 with value: 1.0003813381853845.\n",
      "[I 2024-04-28 20:04:36,911] Trial 64 finished with value: 4.236795952338518 and parameters: {'x': -1.799109766617512, 'y': 1}. Best is trial 19 with value: 1.0003813381853845.\n",
      "[I 2024-04-28 20:04:37,009] Trial 65 finished with value: 402.523878136992 and parameters: {'x': 20.038060737930504, 'y': 1}. Best is trial 19 with value: 1.0003813381853845.\n",
      "[I 2024-04-28 20:04:37,084] Trial 66 finished with value: 140.70366728716564 and parameters: {'x': -11.903934949720014, 'y': -1}. Best is trial 19 with value: 1.0003813381853845.\n",
      "[I 2024-04-28 20:04:37,171] Trial 67 finished with value: 2.3437424785031373 and parameters: {'x': 1.1591990676769617, 'y': 1}. Best is trial 19 with value: 1.0003813381853845.\n",
      "[I 2024-04-28 20:04:37,284] Trial 68 finished with value: 201.2193755095997 and parameters: {'x': 14.14988959354806, 'y': 1}. Best is trial 19 with value: 1.0003813381853845.\n",
      "[I 2024-04-28 20:04:37,368] Trial 69 finished with value: 44.34146619206433 and parameters: {'x': 6.6589388187656695, 'y': 0}. Best is trial 19 with value: 1.0003813381853845.\n",
      "[I 2024-04-28 20:04:37,486] Trial 70 finished with value: 2383.745057841435 and parameters: {'x': 48.813369662843755, 'y': 1}. Best is trial 19 with value: 1.0003813381853845.\n",
      "[I 2024-04-28 20:04:37,574] Trial 71 finished with value: 1.2973524885905017 and parameters: {'x': -0.5453003654780562, 'y': 1}. Best is trial 19 with value: 1.0003813381853845.\n",
      "[I 2024-04-28 20:04:37,654] Trial 72 finished with value: 209.2381949270598 and parameters: {'x': -14.430460662330216, 'y': 1}. Best is trial 19 with value: 1.0003813381853845.\n",
      "[I 2024-04-28 20:04:37,728] Trial 73 finished with value: 29.829610273695103 and parameters: {'x': -5.369321211633283, 'y': 1}. Best is trial 19 with value: 1.0003813381853845.\n",
      "[I 2024-04-28 20:04:37,821] Trial 74 finished with value: 4.208940086952511 and parameters: {'x': 1.7913514694086448, 'y': 1}. Best is trial 19 with value: 1.0003813381853845.\n",
      "[I 2024-04-28 20:04:37,909] Trial 75 finished with value: 422.1052329288806 and parameters: {'x': -20.520848738024473, 'y': 1}. Best is trial 19 with value: 1.0003813381853845.\n",
      "[I 2024-04-28 20:04:37,994] Trial 76 finished with value: 793.4259083718707 and parameters: {'x': -28.150060539399746, 'y': 1}. Best is trial 19 with value: 1.0003813381853845.\n",
      "[I 2024-04-28 20:04:38,076] Trial 77 finished with value: 89.11686067640265 and parameters: {'x': 9.387058148131535, 'y': 1}. Best is trial 19 with value: 1.0003813381853845.\n",
      "[I 2024-04-28 20:04:38,171] Trial 78 finished with value: 913.8955149866422 and parameters: {'x': 30.21416083538714, 'y': 1}. Best is trial 19 with value: 1.0003813381853845.\n",
      "[I 2024-04-28 20:04:38,269] Trial 79 finished with value: 1.0546029353380846 and parameters: {'x': 0.2336727098702043, 'y': 1}. Best is trial 19 with value: 1.0003813381853845.\n",
      "[I 2024-04-28 20:04:38,349] Trial 80 finished with value: 154.0436975821732 and parameters: {'x': -12.451654411449637, 'y': -1}. Best is trial 19 with value: 1.0003813381853845.\n",
      "[I 2024-04-28 20:04:38,435] Trial 81 finished with value: 1.0759995321506728 and parameters: {'x': -0.2756801265065598, 'y': 1}. Best is trial 19 with value: 1.0003813381853845.\n",
      "[I 2024-04-28 20:04:38,521] Trial 82 finished with value: 68.66597897732389 and parameters: {'x': -8.22593331952818, 'y': 1}. Best is trial 19 with value: 1.0003813381853845.\n",
      "[I 2024-04-28 20:04:38,602] Trial 83 finished with value: 41.909913808105394 and parameters: {'x': 6.3960858193199215, 'y': 1}. Best is trial 19 with value: 1.0003813381853845.\n",
      "[I 2024-04-28 20:04:38,677] Trial 84 finished with value: 303.2488952274292 and parameters: {'x': 17.385306877574212, 'y': 1}. Best is trial 19 with value: 1.0003813381853845.\n",
      "[I 2024-04-28 20:04:38,770] Trial 85 finished with value: 14.519260128141395 and parameters: {'x': -3.676854651484254, 'y': 1}. Best is trial 19 with value: 1.0003813381853845.\n",
      "[I 2024-04-28 20:04:38,860] Trial 86 finished with value: 322.1270264698018 and parameters: {'x': -17.947897550125525, 'y': 0}. Best is trial 19 with value: 1.0003813381853845.\n",
      "[I 2024-04-28 20:04:38,944] Trial 87 finished with value: 167.26232293083322 and parameters: {'x': 12.894274812133997, 'y': 1}. Best is trial 19 with value: 1.0003813381853845.\n",
      "[I 2024-04-28 20:04:39,026] Trial 88 finished with value: 1.0004969757750275 and parameters: {'x': 0.022292953483724537, 'y': 1}. Best is trial 19 with value: 1.0003813381853845.\n",
      "[I 2024-04-28 20:04:39,118] Trial 89 finished with value: 1491.0409653220338 and parameters: {'x': -38.601048759354114, 'y': 1}. Best is trial 19 with value: 1.0003813381853845.\n",
      "[I 2024-04-28 20:04:39,204] Trial 90 finished with value: 25.30607602179886 and parameters: {'x': -4.930119270544969, 'y': 1}. Best is trial 19 with value: 1.0003813381853845.\n",
      "[I 2024-04-28 20:04:39,289] Trial 91 finished with value: 2.8918926901099997 and parameters: {'x': 1.3754609009746515, 'y': 1}. Best is trial 19 with value: 1.0003813381853845.\n",
      "[I 2024-04-28 20:04:39,382] Trial 92 finished with value: 29.280005312394106 and parameters: {'x': 5.317894819606167, 'y': 1}. Best is trial 19 with value: 1.0003813381853845.\n",
      "[I 2024-04-28 20:04:39,461] Trial 93 finished with value: 90.42570553630186 and parameters: {'x': -9.456516564586659, 'y': 1}. Best is trial 19 with value: 1.0003813381853845.\n",
      "[I 2024-04-28 20:04:39,542] Trial 94 finished with value: 432.08658224961977 and parameters: {'x': 20.762624647419212, 'y': 1}. Best is trial 19 with value: 1.0003813381853845.\n",
      "[I 2024-04-28 20:04:39,621] Trial 95 finished with value: 655.10650525043 and parameters: {'x': -25.57550596274549, 'y': 1}. Best is trial 19 with value: 1.0003813381853845.\n",
      "[I 2024-04-28 20:04:39,703] Trial 96 finished with value: 1.541081692795351 and parameters: {'x': -0.7355825533516622, 'y': 1}. Best is trial 19 with value: 1.0003813381853845.\n",
      "[I 2024-04-28 20:04:39,781] Trial 97 finished with value: 3.605147915532914 and parameters: {'x': -1.6140470611270645, 'y': 1}. Best is trial 19 with value: 1.0003813381853845.\n",
      "[I 2024-04-28 20:04:39,861] Trial 98 finished with value: 224.6815966698862 and parameters: {'x': -14.955988655715348, 'y': 1}. Best is trial 19 with value: 1.0003813381853845.\n",
      "[I 2024-04-28 20:04:39,950] Trial 99 finished with value: 97.14307999550397 and parameters: {'x': 9.805257773026876, 'y': 1}. Best is trial 19 with value: 1.0003813381853845.\n"
     ]
    },
    {
     "name": "stdout",
     "output_type": "stream",
     "text": [
      "Best value: 1.0003813381853845 (params: {'x': -0.019527882255498952, 'y': 1})\n"
     ]
    }
   ],
   "source": [
    "import optuna\n",
    "\n",
    "def objective(trial):\n",
    "    x = trial.suggest_float(\"x\", -100, 100)\n",
    "    y = trial.suggest_categorical(\"y\", [-1, 0, 1])\n",
    "    return x**2 + y\n",
    "\n",
    "study = optuna.create_study(\n",
    "    storage=\"sqlite:///db.sqlite3\",  # Specify the storage URL here.\n",
    "    study_name=\"quadratic-simple\"\n",
    ")\n",
    "study.optimize(objective, n_trials=100)\n",
    "print(f\"Best value: {study.best_value} (params: {study.best_params})\")"
   ]
  },
  {
   "cell_type": "code",
   "execution_count": null,
   "metadata": {},
   "outputs": [],
   "source": [
    "from sklearn.ensemble import RandomForestClassifier\n",
    "import optuna\n",
    "\n",
    "def TestScoreByFeatureImportanceThreshold(trial):\n",
    "    feature_importance_threshold = trial.suggest_float(\"thr\", 0, np.max(feature_importance)-1e-12)\n",
    "    # Remove weak features\n",
    "    weak_features_indexes = np.where(feature_importance < feature_importance_threshold)[0]\n",
    "    train_features_selected = np.delete(train_features,weak_features_indexes,axis=1)\n",
    "    test_features_selected = np.delete(test_features,weak_features_indexes,axis=1)\n",
    "    # Test selected features\n",
    "    oModel = RandomForestClassifier(n_estimators=100,min_samples_split=6,random_state=1,n_jobs=-1)\n",
    "    oModel.fit(train_data,train_labels)\n",
    "    accuracy = oModel.score(test_data,test_labels)\n",
    "    return accuracy\n",
    "\n",
    "study = optuna.create_study(\n",
    "    storage=\"sqlite:///fit2.db\",  # Specify the storage URL here.\n",
    "    study_name=\"FeatureImportanceThreshold2\"\n",
    ")\n",
    "\n",
    "study.optimize(TestScoreByFeatureImportanceThreshold, n_trials=100)\n",
    "print(f\"Best value: {study.best_value} (params: {study.best_params})\")"
   ]
  },
  {
   "cell_type": "code",
   "execution_count": 3,
   "metadata": {},
   "outputs": [],
   "source": [
    "import numpy as np\n",
    "import pandas as pd\n",
    "from tqdm.auto import tqdm\n",
    "import os\n",
    "import sys\n",
    "import optuna\n",
    "import opendatasets as od\n",
    "import csv\n",
    "import matplotlib.pyplot as plt\n",
    "import seaborn as sns\n",
    "sns.set_style('darkgrid')\n",
    "import seaborn as sns\n",
    "import noisereduce as nr\n",
    "from IPython.display import Audio\n",
    "import librosa\n",
    "import librosa.display\n",
    "import wave\n",
    "\n",
    "from sklearn.ensemble import RandomForestClassifier\n",
    "from sklearn.preprocessing import StandardScaler, OneHotEncoder\n",
    "from sklearn.metrics import confusion_matrix, classification_report\n",
    "from sklearn.model_selection import train_test_split\n",
    "\n",
    "sys.path.append('C:\\Study\\TechnionAI\\Victor\\VoiceEmotionalAnalysis')\n",
    "import prjLib as lib\n",
    "\n",
    "import warnings\n",
    "warnings.filterwarnings ('ignore')"
   ]
  },
  {
   "cell_type": "code",
   "execution_count": 4,
   "metadata": {},
   "outputs": [],
   "source": [
    "# Parameters\n",
    "\n",
    "FRAME_LEN = 4096\n",
    "HOP_LEN = 2048\n",
    "N_MFCC = 14\n",
    "\n",
    "DOWN_SR = 2000 # 22050\n",
    "SECS = 3\n",
    "MAX_FILES = 13000\n",
    "\n",
    "ravdess = ['RAVDESS','../data/ravdess-emotional-speech-audio']\n",
    "tess = ['TESS','../data/toronto-emotional-speech-set-tess']\n",
    "cremad = ['CREMA-D','../data/cremad/AudioWAV']\n",
    "savee = ['SAVEE','../data/savee-database/AudioData']\n",
    "data_paths = [ravdess,tess,cremad,savee] # ravdess,tess,cremad,savee"
   ]
  },
  {
   "cell_type": "code",
   "execution_count": 5,
   "metadata": {},
   "outputs": [],
   "source": [
    "def TrainModel(train_data,train_labels,test_data,test_labels):\n",
    "    oModel = RandomForestClassifier(n_estimators=100,min_samples_split=6,random_state=1,n_jobs=-1)\n",
    "    oModel.fit(train_data,train_labels)\n",
    "    accuracy = oModel.score(test_data,test_labels)\n",
    "    return accuracy"
   ]
  },
  {
   "cell_type": "code",
   "execution_count": 6,
   "metadata": {},
   "outputs": [],
   "source": [
    "def ExtractLabel(audio_file_path,dataset_name):\n",
    "    emotion = -1\n",
    "    gender = 0\n",
    "    if (dataset_name == 'RAVDESS'):\n",
    "        emotion = int(audio_file_path[7:8]) - 1\n",
    "        gender = int(audio_file_path[18:20]) & 0x1\n",
    "    if (dataset_name == 'TESS'):\n",
    "        if '_neutral' in audio_file_path:\n",
    "            emotion = 0\n",
    "        if '_happy' in audio_file_path:\n",
    "            emotion = 2\n",
    "        if '_sad' in audio_file_path:\n",
    "            emotion = 3\n",
    "        if '_angry' in audio_file_path:\n",
    "            emotion = 4\n",
    "        if '_fear' in audio_file_path:\n",
    "            emotion = 5\n",
    "        if '_disgust' in audio_file_path:\n",
    "            emotion = 6\n",
    "        if '_ps' in audio_file_path:\n",
    "            emotion = 7\n",
    "        if 'OAF_' in audio_file_path:\n",
    "            gender = 1\n",
    "        if 'YAF_' in audio_file_path:\n",
    "            gender = 0\n",
    "    if (dataset_name == 'CREMA-D'):\n",
    "        if '_NEU_' in audio_file_path:\n",
    "            emotion = 0\n",
    "        if '_HAP_' in audio_file_path:\n",
    "            emotion = 2\n",
    "        if '_SAD_' in audio_file_path:\n",
    "            emotion = 3\n",
    "        if '_ANG_' in audio_file_path:\n",
    "            emotion = 4\n",
    "        if '_FEA_' in audio_file_path:\n",
    "            emotion = 5\n",
    "        if '_DIS_' in audio_file_path:\n",
    "            emotion = 6\n",
    "        speaker_id = int(audio_file_path[0:4])\n",
    "        # df = pd.read_csv('data/cremad/VideoDemographics.csv')\n",
    "        # df = df.loc[df['ActorID'] == speaker_id]\n",
    "        # gender = int(df['Sex'] == 'Male')\n",
    "    if (dataset_name == 'SAVEE'):\n",
    "        if 'n' in audio_file_path:\n",
    "            emotion = 0\n",
    "        if 'h' in audio_file_path:\n",
    "            emotion = 2\n",
    "        if 'sa' in audio_file_path:\n",
    "            emotion = 3\n",
    "        if 'a' in audio_file_path:\n",
    "            emotion = 4\n",
    "        if 'f' in audio_file_path:\n",
    "            emotion = 5\n",
    "        if 'd' in audio_file_path:\n",
    "            emotion = 6\n",
    "        if 'su' in audio_file_path:\n",
    "            emotion = 7\n",
    "        gender = 1\n",
    "    return emotion # np.concatenate(np.array([emotion,gender]).reshape(1,2),axis=0)"
   ]
  },
  {
   "cell_type": "code",
   "execution_count": 7,
   "metadata": {},
   "outputs": [
    {
     "data": {
      "application/vnd.jupyter.widget-view+json": {
       "model_id": "fcad909e8136472d90b453f87c41fb98",
       "version_major": 2,
       "version_minor": 0
      },
      "text/plain": [
       "Collecting Datasets:   0%|          | 0/4 [00:00<?, ?it/s]"
      ]
     },
     "metadata": {},
     "output_type": "display_data"
    },
    {
     "data": {
      "application/vnd.jupyter.widget-view+json": {
       "model_id": "d82e8b67bed64d9980f908cd7a9a2379",
       "version_major": 2,
       "version_minor": 0
      },
      "text/plain": [
       "Processing RAVDESS audio files:   0%|          | 0/25 [00:00<?, ?file/s]"
      ]
     },
     "metadata": {},
     "output_type": "display_data"
    },
    {
     "data": {
      "application/vnd.jupyter.widget-view+json": {
       "model_id": "45e89c6aec0440a097cb71fcc1466816",
       "version_major": 2,
       "version_minor": 0
      },
      "text/plain": [
       "Processing TESS audio files:   0%|          | 0/16 [00:00<?, ?file/s]"
      ]
     },
     "metadata": {},
     "output_type": "display_data"
    },
    {
     "data": {
      "application/vnd.jupyter.widget-view+json": {
       "model_id": "36c9a33722d643a79b2d08b050f45526",
       "version_major": 2,
       "version_minor": 0
      },
      "text/plain": [
       "Processing CREMA-D audio files:   0%|          | 0/1 [00:00<?, ?file/s]"
      ]
     },
     "metadata": {},
     "output_type": "display_data"
    },
    {
     "data": {
      "application/vnd.jupyter.widget-view+json": {
       "model_id": "38490c12cc3a468da790bdf95e5a31bd",
       "version_major": 2,
       "version_minor": 0
      },
      "text/plain": [
       "Processing SAVEE audio files:   0%|          | 0/5 [00:00<?, ?file/s]"
      ]
     },
     "metadata": {},
     "output_type": "display_data"
    },
    {
     "name": "stdout",
     "output_type": "stream",
     "text": [
      "Data with total 12162 audio samples collected, with 12000 samples each.\n"
     ]
    }
   ],
   "source": [
    "# Preprocessing:\n",
    "# Collect Data from audio files\n",
    "ii=0\n",
    "sample_data = np.zeros([MAX_FILES,SECS*2*DOWN_SR],dtype=np.float16)  # stores the features\n",
    "labels = np.zeros([MAX_FILES,1],dtype=np.int8)  # stores the labels\n",
    "for data_path in tqdm(data_paths,desc=\"Collecting Datasets\"):\n",
    "    root_dir = data_path[1]\n",
    "    cpt = sum([len(d) for r, d, files in os.walk(root_dir)])+1\n",
    "    for subdirs, dirs, files in tqdm(os.walk(root_dir), total=cpt, desc=f'Processing {data_path[0]} audio files', unit=\"file\"):\n",
    "        for file in files:\n",
    "            if not '.wav' in file:\n",
    "                continue\n",
    "            audio_file_path = os.path.join(subdirs, file)\n",
    "            sample, sr = librosa.load(audio_file_path,sr=DOWN_SR)\n",
    "            sample_data[ii,:] = lib.FixSamples(sample,DOWN_SR,SECS)\n",
    "            labels[ii,:] = ExtractLabel(file,data_path[0])\n",
    "            ii += 1\n",
    "sample_data = sample_data[:ii,:]\n",
    "labels = labels[:ii,:]\n",
    "print(f'Data with total {sample_data.shape[0]} audio samples collected, with {sample_data.shape[1]} samples each.')"
   ]
  },
  {
   "cell_type": "code",
   "execution_count": 8,
   "metadata": {},
   "outputs": [],
   "source": [
    "df_sample_data = lib.Numpy2Pandas(sample_data)\n",
    "ds_labels = pd.DataFrame(labels, columns=['Emotion'])"
   ]
  },
  {
   "cell_type": "code",
   "execution_count": 9,
   "metadata": {},
   "outputs": [],
   "source": [
    "ds_labels['Emotion'].replace({0:0, 1:0, 2:1, 3:2, 4:3, 5:4, 6:5, 7:1}, inplace=True)"
   ]
  },
  {
   "cell_type": "code",
   "execution_count": 10,
   "metadata": {},
   "outputs": [
    {
     "data": {
      "image/png": "[encoded data removed]",
      "text/plain": [
       "<Figure size 1400x600 with 2 Axes>"
      ]
     },
     "metadata": {},
     "output_type": "display_data"
    }
   ],
   "source": [
    "# Data samples split\n",
    "train_data, test_data, train_labels, test_labels = train_test_split(df_sample_data, ds_labels, train_size = 0.8, random_state = 512)\n",
    "train_labels.reset_index(drop=True,inplace=True)\n",
    "test_labels.reset_index(drop=True,inplace=True)\n",
    "lib.PlotSplitedDataHistogram(train_labels, test_labels)"
   ]
  },
  {
   "cell_type": "code",
   "execution_count": 11,
   "metadata": {},
   "outputs": [],
   "source": [
    "def Normalize(train_data,test_data):\n",
    "    scaler = StandardScaler()\n",
    "    train_data = scaler.fit_transform(train_data)\n",
    "    test_data = scaler.transform(test_data)\n",
    "    train_data = lib.Numpy2Pandas(train_data)\n",
    "    test_data = lib.Numpy2Pandas(test_data)\n",
    "    return train_data,test_data"
   ]
  },
  {
   "cell_type": "code",
   "execution_count": 12,
   "metadata": {},
   "outputs": [],
   "source": [
    "train_data,test_data = Normalize(train_data,test_data)"
   ]
  },
  {
   "cell_type": "code",
   "execution_count": 22,
   "metadata": {},
   "outputs": [],
   "source": [
    "def ExtractFeatures_Test(sample,sr,n_fft,frame_len,hop_len,win_len,n_chroma):\n",
    "    feature = librosa.feature.spectral_rolloff(y=sample, n_fft=n_fft, win_length=win_len, hop_length=hop_len)\n",
    "    feature_mean = np.mean(feature,axis=1)\n",
    "    feature_min = np.min(feature,axis=1)\n",
    "    feature_max = np.max(feature,axis=1)\n",
    "    features = np.concatenate((feature_mean, feature_min, feature_max),axis=0)\n",
    "    return features"
   ]
  },
  {
   "cell_type": "code",
   "execution_count": 17,
   "metadata": {},
   "outputs": [],
   "source": [
    "def ExtractFeaturesOnDataCollection(data,sr,n_fft,frame_len,hop_len,win_len,n_chroma):\n",
    "    np_data = data.to_numpy()\n",
    "    features = ExtractFeatures_Test(np_data[0,:],sr,n_fft,frame_len,hop_len,win_len,n_chroma)\n",
    "    featured_data = np.zeros([np_data.shape[0],len(features)],dtype=np.float16)\n",
    "    for ii in range(np_data.shape[0]):\n",
    "        featured_data[ii,:] = ExtractFeatures_Test(np_data[ii,:],sr,n_fft,frame_len,hop_len,win_len,n_chroma)\n",
    "    return featured_data"
   ]
  },
  {
   "cell_type": "code",
   "execution_count": 23,
   "metadata": {},
   "outputs": [
    {
     "name": "stderr",
     "output_type": "stream",
     "text": [
      "[I 2024-05-02 14:43:46,876] A new study created in RDB with name: Windowing_18\n",
      "[I 2024-05-02 14:44:08,770] Trial 0 finished with value: 0.2178380600082203 and parameters: {'n_fft': 5598, 'hop_len': 4943, 'win_len': 1119}. Best is trial 0 with value: 0.2178380600082203.\n",
      "[I 2024-05-02 14:47:17,843] Trial 1 finished with value: 0.3156596794081381 and parameters: {'n_fft': 7861, 'hop_len': 653, 'win_len': 3096}. Best is trial 1 with value: 0.3156596794081381.\n",
      "[I 2024-05-02 14:47:55,355] Trial 2 finished with value: 0.2326346074804768 and parameters: {'n_fft': 3251, 'hop_len': 1797, 'win_len': 368}. Best is trial 1 with value: 0.3156596794081381.\n",
      "[I 2024-05-02 14:48:37,497] Trial 3 finished with value: 0.2157829839704069 and parameters: {'n_fft': 3653, 'hop_len': 1322, 'win_len': 133}. Best is trial 1 with value: 0.3156596794081381.\n",
      "[I 2024-05-02 14:48:58,028] Trial 4 finished with value: 0.2815454171804357 and parameters: {'n_fft': 582, 'hop_len': 268, 'win_len': 557}. Best is trial 1 with value: 0.3156596794081381.\n",
      "[I 2024-05-02 14:49:24,159] Trial 5 finished with value: 0.2219482120838471 and parameters: {'n_fft': 7578, 'hop_len': 6688, 'win_len': 250}. Best is trial 1 with value: 0.3156596794081381.\n",
      "[I 2024-05-02 14:50:08,097] Trial 6 finished with value: 0.3033292231812577 and parameters: {'n_fft': 1078, 'hop_len': 100, 'win_len': 186}. Best is trial 1 with value: 0.3156596794081381.\n",
      "[I 2024-05-02 14:50:32,224] Trial 7 finished with value: 0.2942868886148787 and parameters: {'n_fft': 302, 'hop_len': 237, 'win_len': 293}. Best is trial 1 with value: 0.3156596794081381.\n",
      "[I 2024-05-02 14:51:59,787] Trial 8 finished with value: 0.28277846280312374 and parameters: {'n_fft': 37, 'hop_len': 4, 'win_len': 30}. Best is trial 1 with value: 0.3156596794081381.\n",
      "[I 2024-05-02 14:52:33,375] Trial 9 finished with value: 0.21454993834771888 and parameters: {'n_fft': 6189, 'hop_len': 6100, 'win_len': 399}. Best is trial 1 with value: 0.3156596794081381.\n",
      "[I 2024-05-02 14:53:51,314] Trial 10 finished with value: 0.2852445540484998 and parameters: {'n_fft': 7711, 'hop_len': 2917, 'win_len': 5347}. Best is trial 1 with value: 0.3156596794081381.\n",
      "[I 2024-05-02 14:54:15,379] Trial 11 finished with value: 0.3008631319358816 and parameters: {'n_fft': 2044, 'hop_len': 672, 'win_len': 1381}. Best is trial 1 with value: 0.3156596794081381.\n",
      "[I 2024-05-02 14:54:37,880] Trial 12 finished with value: 0.30867242087957253 and parameters: {'n_fft': 2109, 'hop_len': 701, 'win_len': 1830}. Best is trial 1 with value: 0.3156596794081381.\n",
      "[I 2024-05-02 14:54:56,887] Trial 13 finished with value: 0.270859021783806 and parameters: {'n_fft': 5031, 'hop_len': 2640, 'win_len': 3173}. Best is trial 1 with value: 0.3156596794081381.\n",
      "[I 2024-05-02 14:55:17,323] Trial 14 finished with value: 0.28771064529387586 and parameters: {'n_fft': 2392, 'hop_len': 735, 'win_len': 2365}. Best is trial 1 with value: 0.3156596794081381.\n",
      "[I 2024-05-02 14:55:43,964] Trial 15 finished with value: 0.2786683107274969 and parameters: {'n_fft': 4551, 'hop_len': 1396, 'win_len': 3022}. Best is trial 1 with value: 0.3156596794081381.\n",
      "[I 2024-05-02 14:56:02,657] Trial 16 finished with value: 0.3070283600493218 and parameters: {'n_fft': 1980, 'hop_len': 619, 'win_len': 1545}. Best is trial 1 with value: 0.3156596794081381.\n",
      "[I 2024-05-02 14:57:00,839] Trial 17 finished with value: 0.28277846280312374 and parameters: {'n_fft': 6421, 'hop_len': 3935, 'win_len': 4743}. Best is trial 1 with value: 0.3156596794081381.\n",
      "[I 2024-05-02 14:57:55,764] Trial 18 finished with value: 0.29510891903000414 and parameters: {'n_fft': 3083, 'hop_len': 1098, 'win_len': 2247}. Best is trial 1 with value: 0.3156596794081381.\n",
      "[I 2024-05-02 14:58:53,754] Trial 19 finished with value: 0.3070283600493218 and parameters: {'n_fft': 4322, 'hop_len': 1887, 'win_len': 3116}. Best is trial 1 with value: 0.3156596794081381.\n",
      "[I 2024-05-02 14:59:43,363] Trial 20 finished with value: 0.2831894780106864 and parameters: {'n_fft': 1522, 'hop_len': 479, 'win_len': 834}. Best is trial 1 with value: 0.3156596794081381.\n",
      "[I 2024-05-02 15:00:11,245] Trial 21 finished with value: 0.3099054665022606 and parameters: {'n_fft': 2461, 'hop_len': 920, 'win_len': 1609}. Best is trial 1 with value: 0.3156596794081381.\n",
      "[I 2024-05-02 15:00:41,074] Trial 22 finished with value: 0.2934648581997534 and parameters: {'n_fft': 2751, 'hop_len': 1016, 'win_len': 1786}. Best is trial 1 with value: 0.3156596794081381.\n",
      "[I 2024-05-02 15:01:20,603] Trial 23 finished with value: 0.281134401972873 and parameters: {'n_fft': 1385, 'hop_len': 815, 'win_len': 747}. Best is trial 1 with value: 0.3156596794081381.\n",
      "[I 2024-05-02 15:02:11,373] Trial 24 finished with value: 0.28771064529387586 and parameters: {'n_fft': 3727, 'hop_len': 1668, 'win_len': 2281}. Best is trial 1 with value: 0.3156596794081381.\n",
      "[I 2024-05-02 15:03:24,778] Trial 25 finished with value: 0.28976572133168926 and parameters: {'n_fft': 6756, 'hop_len': 2487, 'win_len': 4085}. Best is trial 1 with value: 0.3156596794081381.\n",
      "[I 2024-05-02 15:04:15,911] Trial 26 finished with value: 0.2942868886148787 and parameters: {'n_fft': 2434, 'hop_len': 940, 'win_len': 1767}. Best is trial 1 with value: 0.3156596794081381.\n",
      "[I 2024-05-02 15:04:46,507] Trial 27 finished with value: 0.27373612823674476 and parameters: {'n_fft': 4983, 'hop_len': 2183, 'win_len': 2756}. Best is trial 1 with value: 0.3156596794081381.\n",
      "[I 2024-05-02 15:05:18,476] Trial 28 finished with value: 0.2836004932182491 and parameters: {'n_fft': 1021, 'hop_len': 529, 'win_len': 592}. Best is trial 1 with value: 0.3156596794081381.\n",
      "[I 2024-05-02 15:06:02,720] Trial 29 finished with value: 0.28236744759556104 and parameters: {'n_fft': 5255, 'hop_len': 3376, 'win_len': 4060}. Best is trial 1 with value: 0.3156596794081381.\n",
      "[I 2024-05-02 15:06:21,834] Trial 30 finished with value: 0.25524044389642414 and parameters: {'n_fft': 3145, 'hop_len': 1243, 'win_len': 1149}. Best is trial 1 with value: 0.3156596794081381.\n",
      "[I 2024-05-02 15:06:40,896] Trial 31 finished with value: 0.30456226880394577 and parameters: {'n_fft': 1944, 'hop_len': 536, 'win_len': 1291}. Best is trial 1 with value: 0.3156596794081381.\n",
      "[I 2024-05-02 15:07:12,276] Trial 32 finished with value: 0.2872996300863132 and parameters: {'n_fft': 1788, 'hop_len': 634, 'win_len': 1046}. Best is trial 1 with value: 0.3156596794081381.\n",
      "[I 2024-05-02 15:09:05,906] Trial 33 finished with value: 0.31278257295519934 and parameters: {'n_fft': 2578, 'hop_len': 338, 'win_len': 1668}. Best is trial 1 with value: 0.3156596794081381.\n",
      "[I 2024-05-02 15:09:58,656] Trial 34 finished with value: 0.3103164817098233 and parameters: {'n_fft': 3465, 'hop_len': 310, 'win_len': 2043}. Best is trial 1 with value: 0.3156596794081381.\n",
      "[I 2024-05-02 15:12:44,210] Trial 35 finished with value: 0.30579531442663377 and parameters: {'n_fft': 3824, 'hop_len': 253, 'win_len': 2559}. Best is trial 1 with value: 0.3156596794081381.\n",
      "[I 2024-05-02 15:14:52,452] Trial 36 finished with value: 0.30743937525688453 and parameters: {'n_fft': 3407, 'hop_len': 375, 'win_len': 2043}. Best is trial 1 with value: 0.3156596794081381.\n",
      "[I 2024-05-02 15:15:42,747] Trial 37 finished with value: 0.30579531442663377 and parameters: {'n_fft': 2791, 'hop_len': 863, 'win_len': 1561}. Best is trial 1 with value: 0.3156596794081381.\n",
      "[I 2024-05-02 15:16:00,610] Trial 38 finished with value: 0.27538018906699546 and parameters: {'n_fft': 4240, 'hop_len': 1567, 'win_len': 1964}. Best is trial 1 with value: 0.3156596794081381.\n",
      "[I 2024-05-02 15:16:18,870] Trial 39 finished with value: 0.27332511302918205 and parameters: {'n_fft': 7100, 'hop_len': 3960, 'win_len': 7019}. Best is trial 1 with value: 0.3156596794081381.\n",
      "[I 2024-05-02 16:15:27,326] Trial 40 finished with value: 0.3214138923140156 and parameters: {'n_fft': 5781, 'hop_len': 11, 'win_len': 3470}. Best is trial 40 with value: 0.3214138923140156.\n",
      "[I 2024-05-02 16:41:27,477] Trial 41 finished with value: 0.3177147554459515 and parameters: {'n_fft': 5796, 'hop_len': 21, 'win_len': 3609}. Best is trial 40 with value: 0.3214138923140156.\n",
      "[I 2024-05-02 17:08:37,343] Trial 42 finished with value: 0.32018084669132757 and parameters: {'n_fft': 7270, 'hop_len': 55, 'win_len': 3561}. Best is trial 40 with value: 0.3214138923140156.\n",
      "[I 2024-05-02 17:09:17,760] Trial 43 finished with value: 0.2486642005754213 and parameters: {'n_fft': 7948, 'hop_len': 5809, 'win_len': 3600}. Best is trial 40 with value: 0.3214138923140156.\n",
      "[I 2024-05-02 17:16:36,073] Trial 44 finished with value: 0.31442663378545005 and parameters: {'n_fft': 5811, 'hop_len': 79, 'win_len': 3573}. Best is trial 40 with value: 0.3214138923140156.\n",
      "[I 2024-05-02 17:24:38,900] Trial 45 finished with value: 0.31442663378545005 and parameters: {'n_fft': 5875, 'hop_len': 46, 'win_len': 3517}. Best is trial 40 with value: 0.3214138923140156.\n",
      "[I 2024-05-02 17:28:14,989] Trial 46 finished with value: 0.292642827784628 and parameters: {'n_fft': 7280, 'hop_len': 117, 'win_len': 4108}. Best is trial 40 with value: 0.3214138923140156.\n",
      "[I 2024-05-02 18:00:24,437] Trial 47 finished with value: 0.3210028771064529 and parameters: {'n_fft': 5796, 'hop_len': 12, 'win_len': 3487}. Best is trial 40 with value: 0.3214138923140156.\n",
      "[I 2024-05-02 18:01:35,025] Trial 48 finished with value: 0.3094944512946979 and parameters: {'n_fft': 6613, 'hop_len': 1224, 'win_len': 4444}. Best is trial 40 with value: 0.3214138923140156.\n",
      "[I 2024-05-02 18:02:08,589] Trial 49 finished with value: 0.26099465680230166 and parameters: {'n_fft': 7388, 'hop_len': 4391, 'win_len': 4908}. Best is trial 40 with value: 0.3214138923140156.\n",
      "[I 2024-05-02 18:37:53,448] Trial 50 finished with value: 0.30209617755856966 and parameters: {'n_fft': 6942, 'hop_len': 17, 'win_len': 3749}. Best is trial 40 with value: 0.3214138923140156.\n",
      "[I 2024-05-02 18:47:21,355] Trial 51 finished with value: 0.29675297986025484 and parameters: {'n_fft': 5970, 'hop_len': 85, 'win_len': 3307}. Best is trial 40 with value: 0.3214138923140156.\n",
      "[I 2024-05-02 18:50:16,713] Trial 52 finished with value: 0.3033292231812577 and parameters: {'n_fft': 5553, 'hop_len': 303, 'win_len': 3847}. Best is trial 40 with value: 0.3214138923140156.\n",
      "[I 2024-05-02 19:45:59,547] Trial 53 finished with value: 0.3193588162762022 and parameters: {'n_fft': 6344, 'hop_len': 8, 'win_len': 2911}. Best is trial 40 with value: 0.3214138923140156.\n",
      "[I 2024-05-02 19:46:56,854] Trial 54 finished with value: 0.2996300863131936 and parameters: {'n_fft': 6390, 'hop_len': 400, 'win_len': 2875}. Best is trial 40 with value: 0.3214138923140156.\n",
      "[I 2024-05-02 19:47:24,905] Trial 55 finished with value: 0.3012741471434443 and parameters: {'n_fft': 7676, 'hop_len': 1440, 'win_len': 3328}. Best is trial 40 with value: 0.3214138923140156.\n",
      "[I 2024-05-02 19:48:40,628] Trial 56 finished with value: 0.2955199342375668 and parameters: {'n_fft': 6187, 'hop_len': 738, 'win_len': 2874}. Best is trial 40 with value: 0.3214138923140156.\n",
      "[I 2024-05-02 19:48:49,968] Trial 57 finished with value: 0.24948623099054665 and parameters: {'n_fft': 7992, 'hop_len': 7826, 'win_len': 4411}. Best is trial 40 with value: 0.3214138923140156.\n",
      "[I 2024-05-02 19:49:50,793] Trial 58 finished with value: 0.31442663378545005 and parameters: {'n_fft': 4884, 'hop_len': 231, 'win_len': 3273}. Best is trial 40 with value: 0.3214138923140156.\n",
      "[I 2024-05-02 19:51:34,265] Trial 59 finished with value: 0.29510891903000414 and parameters: {'n_fft': 5458, 'hop_len': 525, 'win_len': 2504}. Best is trial 40 with value: 0.3214138923140156.\n",
      "[I 2024-05-02 19:52:28,227] Trial 60 finished with value: 0.2930538429921907 and parameters: {'n_fft': 6838, 'hop_len': 1167, 'win_len': 5497}. Best is trial 40 with value: 0.3214138923140156.\n",
      "[I 2024-05-02 19:57:49,189] Trial 61 finished with value: 0.31442663378545005 and parameters: {'n_fft': 5820, 'hop_len': 84, 'win_len': 3481}. Best is trial 40 with value: 0.3214138923140156.\n",
      "[I 2024-05-02 22:15:15,745] Trial 62 finished with value: 0.3033292231812577 and parameters: {'n_fft': 6456, 'hop_len': 7, 'win_len': 3844}. Best is trial 40 with value: 0.3214138923140156.\n",
      "[I 2024-05-02 22:19:12,954] Trial 63 finished with value: 0.31483764899301275 and parameters: {'n_fft': 4709, 'hop_len': 191, 'win_len': 3147}. Best is trial 40 with value: 0.3214138923140156.\n",
      "[I 2024-05-02 22:19:52,106] Trial 64 finished with value: 0.302918207973695 and parameters: {'n_fft': 4598, 'hop_len': 457, 'win_len': 3058}. Best is trial 40 with value: 0.3214138923140156.\n",
      "[I 2024-05-02 22:21:30,645] Trial 65 finished with value: 0.30415125359638306 and parameters: {'n_fft': 5312, 'hop_len': 228, 'win_len': 2920}. Best is trial 40 with value: 0.3214138923140156.\n",
      "[I 2024-05-02 22:21:57,743] Trial 66 finished with value: 0.29469790382244143 and parameters: {'n_fft': 6120, 'hop_len': 727, 'win_len': 2674}. Best is trial 40 with value: 0.3214138923140156.\n",
      "[I 2024-05-02 22:22:56,165] Trial 67 finished with value: 0.28606658446362515 and parameters: {'n_fft': 7323, 'hop_len': 1918, 'win_len': 4149}. Best is trial 40 with value: 0.3214138923140156.\n",
      "[I 2024-05-02 22:28:30,743] Trial 68 finished with value: 0.3066173448417591 and parameters: {'n_fft': 4657, 'hop_len': 176, 'win_len': 3388}. Best is trial 40 with value: 0.3214138923140156.\n",
      "[I 2024-05-02 22:29:42,247] Trial 69 finished with value: 0.3094944512946979 and parameters: {'n_fft': 5129, 'hop_len': 595, 'win_len': 3128}. Best is trial 40 with value: 0.3214138923140156.\n",
      "[I 2024-05-02 22:31:15,233] Trial 70 finished with value: 0.2955199342375668 and parameters: {'n_fft': 7041, 'hop_len': 955, 'win_len': 4366}. Best is trial 40 with value: 0.3214138923140156.\n",
      "[I 2024-05-02 22:32:07,306] Trial 71 finished with value: 0.30415125359638306 and parameters: {'n_fft': 5719, 'hop_len': 404, 'win_len': 3627}. Best is trial 40 with value: 0.3214138923140156.\n",
      "[I 2024-05-02 22:34:13,314] Trial 72 finished with value: 0.3062063296341965 and parameters: {'n_fft': 6626, 'hop_len': 790, 'win_len': 3858}. Best is trial 40 with value: 0.3214138923140156.\n",
      "[I 2024-05-02 22:39:07,502] Trial 73 finished with value: 0.31483764899301275 and parameters: {'n_fft': 5629, 'hop_len': 203, 'win_len': 3199}. Best is trial 40 with value: 0.3214138923140156.\n",
      "[I 2024-05-02 22:43:48,031] Trial 74 finished with value: 0.32346896835182903 and parameters: {'n_fft': 5501, 'hop_len': 212, 'win_len': 3126}. Best is trial 74 with value: 0.32346896835182903.\n",
      "[I 2024-05-02 22:46:05,358] Trial 75 finished with value: 0.3062063296341965 and parameters: {'n_fft': 4771, 'hop_len': 352, 'win_len': 2987}. Best is trial 74 with value: 0.32346896835182903.\n",
      "[I 2024-05-02 22:48:25,040] Trial 76 finished with value: 0.2979860254829429 and parameters: {'n_fft': 4268, 'hop_len': 164, 'win_len': 3694}. Best is trial 74 with value: 0.32346896835182903.\n",
      "[I 2024-05-02 22:49:08,923] Trial 77 finished with value: 0.31113851212494864 and parameters: {'n_fft': 5335, 'hop_len': 562, 'win_len': 2747}. Best is trial 74 with value: 0.32346896835182903.\n",
      "[I 2024-05-02 22:49:49,450] Trial 78 finished with value: 0.25400739827373614 and parameters: {'n_fft': 7494, 'hop_len': 3142, 'win_len': 2250}. Best is trial 74 with value: 0.32346896835182903.\n",
      "[I 2024-05-02 22:51:07,959] Trial 79 finished with value: 0.29140978216193997 and parameters: {'n_fft': 6316, 'hop_len': 1105, 'win_len': 2435}. Best is trial 74 with value: 0.32346896835182903.\n",
      "[I 2024-05-02 22:51:40,004] Trial 80 finished with value: 0.2992190711056309 and parameters: {'n_fft': 6076, 'hop_len': 678, 'win_len': 3421}. Best is trial 74 with value: 0.32346896835182903.\n",
      "[I 2024-05-02 22:54:15,765] Trial 81 finished with value: 0.3070283600493218 and parameters: {'n_fft': 5536, 'hop_len': 234, 'win_len': 3150}. Best is trial 74 with value: 0.32346896835182903.\n",
      "[I 2024-05-02 23:54:31,050] Trial 82 finished with value: 0.30867242087957253 and parameters: {'n_fft': 5674, 'hop_len': 17, 'win_len': 3248}. Best is trial 74 with value: 0.32346896835182903.\n",
      "[I 2024-05-02 23:55:20,996] Trial 83 finished with value: 0.3008631319358816 and parameters: {'n_fft': 5104, 'hop_len': 442, 'win_len': 2652}. Best is trial 74 with value: 0.32346896835182903.\n",
      "[I 2024-05-03 00:00:37,487] Trial 84 finished with value: 0.3136046033703247 and parameters: {'n_fft': 3958, 'hop_len': 139, 'win_len': 3190}. Best is trial 74 with value: 0.32346896835182903.\n",
      "[I 2024-05-03 00:01:39,017] Trial 85 finished with value: 0.2955199342375668 and parameters: {'n_fft': 7831, 'hop_len': 985, 'win_len': 4208}. Best is trial 74 with value: 0.32346896835182903.\n",
      "[I 2024-05-03 00:05:32,013] Trial 86 finished with value: 0.31319358816276205 and parameters: {'n_fft': 5982, 'hop_len': 309, 'win_len': 3986}. Best is trial 74 with value: 0.32346896835182903.\n",
      "[I 2024-05-03 00:06:03,469] Trial 87 finished with value: 0.24537607891491986 and parameters: {'n_fft': 7173, 'hop_len': 5252, 'win_len': 2837}. Best is trial 74 with value: 0.32346896835182903.\n",
      "[I 2024-05-03 00:07:35,725] Trial 88 finished with value: 0.2815454171804357 and parameters: {'n_fft': 6599, 'hop_len': 821, 'win_len': 3426}. Best is trial 74 with value: 0.32346896835182903.\n",
      "[W 2024-05-03 02:49:12,219] Trial 89 failed with parameters: {'n_fft': 5444, 'hop_len': 2, 'win_len': 3020} because of the following error: KeyboardInterrupt().\n",
      "Traceback (most recent call last):\n",
      "  File \"c:\\ProgramData\\anaconda3\\envs\\MyEnv\\Lib\\site-packages\\optuna\\study\\_optimize.py\", line 196, in _run_trial\n",
      "    value_or_values = func(trial)\n",
      "                      ^^^^^^^^^^^\n",
      "  File \"C:\\Users\\VUGAR\\AppData\\Local\\Temp\\ipykernel_15640\\3979418567.py\", line 13, in oWindowing\n",
      "    score = TestByWindowing(n_fft,0,hop_len,win_len,0)\n",
      "            ^^^^^^^^^^^^^^^^^^^^^^^^^^^^^^^^^^^^^^^^^^\n",
      "  File \"C:\\Users\\VUGAR\\AppData\\Local\\Temp\\ipykernel_15640\\3979418567.py\", line 3, in TestByWindowing\n",
      "    train_features = ExtractFeaturesOnDataCollection(train_data,DOWN_SR,n_fft,frame_len,hop_len,win_len,n_chroma)\n",
      "                     ^^^^^^^^^^^^^^^^^^^^^^^^^^^^^^^^^^^^^^^^^^^^^^^^^^^^^^^^^^^^^^^^^^^^^^^^^^^^^^^^^^^^^^^^^^^^\n",
      "  File \"C:\\Users\\VUGAR\\AppData\\Local\\Temp\\ipykernel_15640\\362936804.py\", line 6, in ExtractFeaturesOnDataCollection\n",
      "    featured_data[ii,:] = ExtractFeatures_Test(np_data[ii,:],sr,n_fft,frame_len,hop_len,win_len,n_chroma)\n",
      "                          ^^^^^^^^^^^^^^^^^^^^^^^^^^^^^^^^^^^^^^^^^^^^^^^^^^^^^^^^^^^^^^^^^^^^^^^^^^^^^^^\n",
      "  File \"C:\\Users\\VUGAR\\AppData\\Local\\Temp\\ipykernel_15640\\1030510802.py\", line 2, in ExtractFeatures_Test\n",
      "    feature = librosa.feature.spectral_rolloff(y=sample, n_fft=n_fft, win_length=win_len, hop_length=hop_len)\n",
      "              ^^^^^^^^^^^^^^^^^^^^^^^^^^^^^^^^^^^^^^^^^^^^^^^^^^^^^^^^^^^^^^^^^^^^^^^^^^^^^^^^^^^^^^^^^^^^^^^\n",
      "  File \"c:\\ProgramData\\anaconda3\\envs\\MyEnv\\Lib\\site-packages\\librosa\\feature\\spectral.py\", line 636, in spectral_rolloff\n",
      "    S, n_fft = _spectrogram(\n",
      "               ^^^^^^^^^^^^^\n",
      "  File \"c:\\ProgramData\\anaconda3\\envs\\MyEnv\\Lib\\site-packages\\librosa\\core\\spectrum.py\", line 2822, in _spectrogram\n",
      "    stft(\n",
      "  File \"c:\\ProgramData\\anaconda3\\envs\\MyEnv\\Lib\\site-packages\\librosa\\core\\spectrum.py\", line 366, in stft\n",
      "    stft_matrix[..., -off_end:] = fft.rfft(fft_window * y_frames_post, axis=-2)\n",
      "                                  ^^^^^^^^^^^^^^^^^^^^^^^^^^^^^^^^^^^^^^^^^^^^^\n",
      "  File \"c:\\ProgramData\\anaconda3\\envs\\MyEnv\\Lib\\site-packages\\numpy\\fft\\_pocketfft.py\", line 409, in rfft\n",
      "    output = _raw_fft(a, n, axis, True, True, inv_norm)\n",
      "             ^^^^^^^^^^^^^^^^^^^^^^^^^^^^^^^^^^^^^^^^^^\n",
      "  File \"c:\\ProgramData\\anaconda3\\envs\\MyEnv\\Lib\\site-packages\\numpy\\fft\\_pocketfft.py\", line 73, in _raw_fft\n",
      "    r = pfi.execute(a, is_real, is_forward, fct)\n",
      "        ^^^^^^^^^^^^^^^^^^^^^^^^^^^^^^^^^^^^^^^^\n",
      "KeyboardInterrupt\n",
      "[W 2024-05-03 02:49:12,300] Trial 89 failed with value None.\n"
     ]
    },
    {
     "ename": "KeyboardInterrupt",
     "evalue": "",
     "output_type": "error",
     "traceback": [
      "\u001b[1;31m---------------------------------------------------------------------------\u001b[0m",
      "\u001b[1;31mKeyboardInterrupt\u001b[0m                         Traceback (most recent call last)",
      "Cell \u001b[1;32mIn[23], line 23\u001b[0m\n\u001b[0;32m     16\u001b[0m study_name\u001b[38;5;241m=\u001b[39m\u001b[38;5;124m\"\u001b[39m\u001b[38;5;124mWindowing_18\u001b[39m\u001b[38;5;124m\"\u001b[39m\n\u001b[0;32m     17\u001b[0m study \u001b[38;5;241m=\u001b[39m optuna\u001b[38;5;241m.\u001b[39mcreate_study(\n\u001b[0;32m     18\u001b[0m     study_name\u001b[38;5;241m=\u001b[39mstudy_name,\n\u001b[0;32m     19\u001b[0m     storage\u001b[38;5;241m=\u001b[39m\u001b[38;5;124mf\u001b[39m\u001b[38;5;124m'\u001b[39m\u001b[38;5;124msqlite:///\u001b[39m\u001b[38;5;132;01m{\u001b[39;00mstudy_name\u001b[38;5;132;01m}\u001b[39;00m\u001b[38;5;124m.db\u001b[39m\u001b[38;5;124m'\u001b[39m,  \u001b[38;5;66;03m# Specify the storage URL here.\u001b[39;00m\n\u001b[0;32m     20\u001b[0m     direction\u001b[38;5;241m=\u001b[39m\u001b[38;5;124m'\u001b[39m\u001b[38;5;124mmaximize\u001b[39m\u001b[38;5;124m'\u001b[39m\n\u001b[0;32m     21\u001b[0m )\n\u001b[1;32m---> 23\u001b[0m \u001b[43mstudy\u001b[49m\u001b[38;5;241;43m.\u001b[39;49m\u001b[43moptimize\u001b[49m\u001b[43m(\u001b[49m\u001b[43moWindowing\u001b[49m\u001b[43m,\u001b[49m\u001b[43m \u001b[49m\u001b[43mn_trials\u001b[49m\u001b[38;5;241;43m=\u001b[39;49m\u001b[38;5;241;43m100\u001b[39;49m\u001b[43m)\u001b[49m\n\u001b[0;32m     24\u001b[0m \u001b[38;5;66;03m#score = TestByWindowing(study.best_params['thr'])\u001b[39;00m\n\u001b[0;32m     26\u001b[0m \u001b[38;5;28mprint\u001b[39m(\u001b[38;5;124mf\u001b[39m\u001b[38;5;124m\"\u001b[39m\u001b[38;5;124mBest score: \u001b[39m\u001b[38;5;132;01m{\u001b[39;00mstudy\u001b[38;5;241m.\u001b[39mbest_value\u001b[38;5;132;01m}\u001b[39;00m\u001b[38;5;124m (params: \u001b[39m\u001b[38;5;132;01m{\u001b[39;00mstudy\u001b[38;5;241m.\u001b[39mbest_params\u001b[38;5;132;01m}\u001b[39;00m\u001b[38;5;124m)\u001b[39m\u001b[38;5;124m\"\u001b[39m)\n",
      "File \u001b[1;32mc:\\ProgramData\\anaconda3\\envs\\MyEnv\\Lib\\site-packages\\optuna\\study\\study.py:451\u001b[0m, in \u001b[0;36mStudy.optimize\u001b[1;34m(self, func, n_trials, timeout, n_jobs, catch, callbacks, gc_after_trial, show_progress_bar)\u001b[0m\n\u001b[0;32m    348\u001b[0m \u001b[38;5;28;01mdef\u001b[39;00m \u001b[38;5;21moptimize\u001b[39m(\n\u001b[0;32m    349\u001b[0m     \u001b[38;5;28mself\u001b[39m,\n\u001b[0;32m    350\u001b[0m     func: ObjectiveFuncType,\n\u001b[1;32m   (...)\u001b[0m\n\u001b[0;32m    357\u001b[0m     show_progress_bar: \u001b[38;5;28mbool\u001b[39m \u001b[38;5;241m=\u001b[39m \u001b[38;5;28;01mFalse\u001b[39;00m,\n\u001b[0;32m    358\u001b[0m ) \u001b[38;5;241m-\u001b[39m\u001b[38;5;241m>\u001b[39m \u001b[38;5;28;01mNone\u001b[39;00m:\n\u001b[0;32m    359\u001b[0m \u001b[38;5;250m    \u001b[39m\u001b[38;5;124;03m\"\"\"Optimize an objective function.\u001b[39;00m\n\u001b[0;32m    360\u001b[0m \n\u001b[0;32m    361\u001b[0m \u001b[38;5;124;03m    Optimization is done by choosing a suitable set of hyperparameter values from a given\u001b[39;00m\n\u001b[1;32m   (...)\u001b[0m\n\u001b[0;32m    449\u001b[0m \u001b[38;5;124;03m            If nested invocation of this method occurs.\u001b[39;00m\n\u001b[0;32m    450\u001b[0m \u001b[38;5;124;03m    \"\"\"\u001b[39;00m\n\u001b[1;32m--> 451\u001b[0m     \u001b[43m_optimize\u001b[49m\u001b[43m(\u001b[49m\n\u001b[0;32m    452\u001b[0m \u001b[43m        \u001b[49m\u001b[43mstudy\u001b[49m\u001b[38;5;241;43m=\u001b[39;49m\u001b[38;5;28;43mself\u001b[39;49m\u001b[43m,\u001b[49m\n\u001b[0;32m    453\u001b[0m \u001b[43m        \u001b[49m\u001b[43mfunc\u001b[49m\u001b[38;5;241;43m=\u001b[39;49m\u001b[43mfunc\u001b[49m\u001b[43m,\u001b[49m\n\u001b[0;32m    454\u001b[0m \u001b[43m        \u001b[49m\u001b[43mn_trials\u001b[49m\u001b[38;5;241;43m=\u001b[39;49m\u001b[43mn_trials\u001b[49m\u001b[43m,\u001b[49m\n\u001b[0;32m    455\u001b[0m \u001b[43m        \u001b[49m\u001b[43mtimeout\u001b[49m\u001b[38;5;241;43m=\u001b[39;49m\u001b[43mtimeout\u001b[49m\u001b[43m,\u001b[49m\n\u001b[0;32m    456\u001b[0m \u001b[43m        \u001b[49m\u001b[43mn_jobs\u001b[49m\u001b[38;5;241;43m=\u001b[39;49m\u001b[43mn_jobs\u001b[49m\u001b[43m,\u001b[49m\n\u001b[0;32m    457\u001b[0m \u001b[43m        \u001b[49m\u001b[43mcatch\u001b[49m\u001b[38;5;241;43m=\u001b[39;49m\u001b[38;5;28;43mtuple\u001b[39;49m\u001b[43m(\u001b[49m\u001b[43mcatch\u001b[49m\u001b[43m)\u001b[49m\u001b[43m \u001b[49m\u001b[38;5;28;43;01mif\u001b[39;49;00m\u001b[43m \u001b[49m\u001b[38;5;28;43misinstance\u001b[39;49m\u001b[43m(\u001b[49m\u001b[43mcatch\u001b[49m\u001b[43m,\u001b[49m\u001b[43m \u001b[49m\u001b[43mIterable\u001b[49m\u001b[43m)\u001b[49m\u001b[43m \u001b[49m\u001b[38;5;28;43;01melse\u001b[39;49;00m\u001b[43m \u001b[49m\u001b[43m(\u001b[49m\u001b[43mcatch\u001b[49m\u001b[43m,\u001b[49m\u001b[43m)\u001b[49m\u001b[43m,\u001b[49m\n\u001b[0;32m    458\u001b[0m \u001b[43m        \u001b[49m\u001b[43mcallbacks\u001b[49m\u001b[38;5;241;43m=\u001b[39;49m\u001b[43mcallbacks\u001b[49m\u001b[43m,\u001b[49m\n\u001b[0;32m    459\u001b[0m \u001b[43m        \u001b[49m\u001b[43mgc_after_trial\u001b[49m\u001b[38;5;241;43m=\u001b[39;49m\u001b[43mgc_after_trial\u001b[49m\u001b[43m,\u001b[49m\n\u001b[0;32m    460\u001b[0m \u001b[43m        \u001b[49m\u001b[43mshow_progress_bar\u001b[49m\u001b[38;5;241;43m=\u001b[39;49m\u001b[43mshow_progress_bar\u001b[49m\u001b[43m,\u001b[49m\n\u001b[0;32m    461\u001b[0m \u001b[43m    \u001b[49m\u001b[43m)\u001b[49m\n",
      "File \u001b[1;32mc:\\ProgramData\\anaconda3\\envs\\MyEnv\\Lib\\site-packages\\optuna\\study\\_optimize.py:62\u001b[0m, in \u001b[0;36m_optimize\u001b[1;34m(study, func, n_trials, timeout, n_jobs, catch, callbacks, gc_after_trial, show_progress_bar)\u001b[0m\n\u001b[0;32m     60\u001b[0m \u001b[38;5;28;01mtry\u001b[39;00m:\n\u001b[0;32m     61\u001b[0m     \u001b[38;5;28;01mif\u001b[39;00m n_jobs \u001b[38;5;241m==\u001b[39m \u001b[38;5;241m1\u001b[39m:\n\u001b[1;32m---> 62\u001b[0m         \u001b[43m_optimize_sequential\u001b[49m\u001b[43m(\u001b[49m\n\u001b[0;32m     63\u001b[0m \u001b[43m            \u001b[49m\u001b[43mstudy\u001b[49m\u001b[43m,\u001b[49m\n\u001b[0;32m     64\u001b[0m \u001b[43m            \u001b[49m\u001b[43mfunc\u001b[49m\u001b[43m,\u001b[49m\n\u001b[0;32m     65\u001b[0m \u001b[43m            \u001b[49m\u001b[43mn_trials\u001b[49m\u001b[43m,\u001b[49m\n\u001b[0;32m     66\u001b[0m \u001b[43m            \u001b[49m\u001b[43mtimeout\u001b[49m\u001b[43m,\u001b[49m\n\u001b[0;32m     67\u001b[0m \u001b[43m            \u001b[49m\u001b[43mcatch\u001b[49m\u001b[43m,\u001b[49m\n\u001b[0;32m     68\u001b[0m \u001b[43m            \u001b[49m\u001b[43mcallbacks\u001b[49m\u001b[43m,\u001b[49m\n\u001b[0;32m     69\u001b[0m \u001b[43m            \u001b[49m\u001b[43mgc_after_trial\u001b[49m\u001b[43m,\u001b[49m\n\u001b[0;32m     70\u001b[0m \u001b[43m            \u001b[49m\u001b[43mreseed_sampler_rng\u001b[49m\u001b[38;5;241;43m=\u001b[39;49m\u001b[38;5;28;43;01mFalse\u001b[39;49;00m\u001b[43m,\u001b[49m\n\u001b[0;32m     71\u001b[0m \u001b[43m            \u001b[49m\u001b[43mtime_start\u001b[49m\u001b[38;5;241;43m=\u001b[39;49m\u001b[38;5;28;43;01mNone\u001b[39;49;00m\u001b[43m,\u001b[49m\n\u001b[0;32m     72\u001b[0m \u001b[43m            \u001b[49m\u001b[43mprogress_bar\u001b[49m\u001b[38;5;241;43m=\u001b[39;49m\u001b[43mprogress_bar\u001b[49m\u001b[43m,\u001b[49m\n\u001b[0;32m     73\u001b[0m \u001b[43m        \u001b[49m\u001b[43m)\u001b[49m\n\u001b[0;32m     74\u001b[0m     \u001b[38;5;28;01melse\u001b[39;00m:\n\u001b[0;32m     75\u001b[0m         \u001b[38;5;28;01mif\u001b[39;00m n_jobs \u001b[38;5;241m==\u001b[39m \u001b[38;5;241m-\u001b[39m\u001b[38;5;241m1\u001b[39m:\n",
      "File \u001b[1;32mc:\\ProgramData\\anaconda3\\envs\\MyEnv\\Lib\\site-packages\\optuna\\study\\_optimize.py:159\u001b[0m, in \u001b[0;36m_optimize_sequential\u001b[1;34m(study, func, n_trials, timeout, catch, callbacks, gc_after_trial, reseed_sampler_rng, time_start, progress_bar)\u001b[0m\n\u001b[0;32m    156\u001b[0m         \u001b[38;5;28;01mbreak\u001b[39;00m\n\u001b[0;32m    158\u001b[0m \u001b[38;5;28;01mtry\u001b[39;00m:\n\u001b[1;32m--> 159\u001b[0m     frozen_trial \u001b[38;5;241m=\u001b[39m \u001b[43m_run_trial\u001b[49m\u001b[43m(\u001b[49m\u001b[43mstudy\u001b[49m\u001b[43m,\u001b[49m\u001b[43m \u001b[49m\u001b[43mfunc\u001b[49m\u001b[43m,\u001b[49m\u001b[43m \u001b[49m\u001b[43mcatch\u001b[49m\u001b[43m)\u001b[49m\n\u001b[0;32m    160\u001b[0m \u001b[38;5;28;01mfinally\u001b[39;00m:\n\u001b[0;32m    161\u001b[0m     \u001b[38;5;66;03m# The following line mitigates memory problems that can be occurred in some\u001b[39;00m\n\u001b[0;32m    162\u001b[0m     \u001b[38;5;66;03m# environments (e.g., services that use computing containers such as GitHub Actions).\u001b[39;00m\n\u001b[0;32m    163\u001b[0m     \u001b[38;5;66;03m# Please refer to the following PR for further details:\u001b[39;00m\n\u001b[0;32m    164\u001b[0m     \u001b[38;5;66;03m# https://github.com/optuna/optuna/pull/325.\u001b[39;00m\n\u001b[0;32m    165\u001b[0m     \u001b[38;5;28;01mif\u001b[39;00m gc_after_trial:\n",
      "File \u001b[1;32mc:\\ProgramData\\anaconda3\\envs\\MyEnv\\Lib\\site-packages\\optuna\\study\\_optimize.py:247\u001b[0m, in \u001b[0;36m_run_trial\u001b[1;34m(study, func, catch)\u001b[0m\n\u001b[0;32m    240\u001b[0m         \u001b[38;5;28;01massert\u001b[39;00m \u001b[38;5;28;01mFalse\u001b[39;00m, \u001b[38;5;124m\"\u001b[39m\u001b[38;5;124mShould not reach.\u001b[39m\u001b[38;5;124m\"\u001b[39m\n\u001b[0;32m    242\u001b[0m \u001b[38;5;28;01mif\u001b[39;00m (\n\u001b[0;32m    243\u001b[0m     frozen_trial\u001b[38;5;241m.\u001b[39mstate \u001b[38;5;241m==\u001b[39m TrialState\u001b[38;5;241m.\u001b[39mFAIL\n\u001b[0;32m    244\u001b[0m     \u001b[38;5;129;01mand\u001b[39;00m func_err \u001b[38;5;129;01mis\u001b[39;00m \u001b[38;5;129;01mnot\u001b[39;00m \u001b[38;5;28;01mNone\u001b[39;00m\n\u001b[0;32m    245\u001b[0m     \u001b[38;5;129;01mand\u001b[39;00m \u001b[38;5;129;01mnot\u001b[39;00m \u001b[38;5;28misinstance\u001b[39m(func_err, catch)\n\u001b[0;32m    246\u001b[0m ):\n\u001b[1;32m--> 247\u001b[0m     \u001b[38;5;28;01mraise\u001b[39;00m func_err\n\u001b[0;32m    248\u001b[0m \u001b[38;5;28;01mreturn\u001b[39;00m frozen_trial\n",
      "File \u001b[1;32mc:\\ProgramData\\anaconda3\\envs\\MyEnv\\Lib\\site-packages\\optuna\\study\\_optimize.py:196\u001b[0m, in \u001b[0;36m_run_trial\u001b[1;34m(study, func, catch)\u001b[0m\n\u001b[0;32m    194\u001b[0m \u001b[38;5;28;01mwith\u001b[39;00m get_heartbeat_thread(trial\u001b[38;5;241m.\u001b[39m_trial_id, study\u001b[38;5;241m.\u001b[39m_storage):\n\u001b[0;32m    195\u001b[0m     \u001b[38;5;28;01mtry\u001b[39;00m:\n\u001b[1;32m--> 196\u001b[0m         value_or_values \u001b[38;5;241m=\u001b[39m \u001b[43mfunc\u001b[49m\u001b[43m(\u001b[49m\u001b[43mtrial\u001b[49m\u001b[43m)\u001b[49m\n\u001b[0;32m    197\u001b[0m     \u001b[38;5;28;01mexcept\u001b[39;00m exceptions\u001b[38;5;241m.\u001b[39mTrialPruned \u001b[38;5;28;01mas\u001b[39;00m e:\n\u001b[0;32m    198\u001b[0m         \u001b[38;5;66;03m# TODO(mamu): Handle multi-objective cases.\u001b[39;00m\n\u001b[0;32m    199\u001b[0m         state \u001b[38;5;241m=\u001b[39m TrialState\u001b[38;5;241m.\u001b[39mPRUNED\n",
      "Cell \u001b[1;32mIn[23], line 13\u001b[0m, in \u001b[0;36moWindowing\u001b[1;34m(trial)\u001b[0m\n\u001b[0;32m     11\u001b[0m win_len \u001b[38;5;241m=\u001b[39m trial\u001b[38;5;241m.\u001b[39msuggest_int(\u001b[38;5;124m\"\u001b[39m\u001b[38;5;124mwin_len\u001b[39m\u001b[38;5;124m\"\u001b[39m, \u001b[38;5;241m1\u001b[39m, n_fft)\n\u001b[0;32m     12\u001b[0m \u001b[38;5;66;03m#n_chroma = trial.suggest_int(\"n_chroma\", 1, 128)\u001b[39;00m\n\u001b[1;32m---> 13\u001b[0m score \u001b[38;5;241m=\u001b[39m \u001b[43mTestByWindowing\u001b[49m\u001b[43m(\u001b[49m\u001b[43mn_fft\u001b[49m\u001b[43m,\u001b[49m\u001b[38;5;241;43m0\u001b[39;49m\u001b[43m,\u001b[49m\u001b[43mhop_len\u001b[49m\u001b[43m,\u001b[49m\u001b[43mwin_len\u001b[49m\u001b[43m,\u001b[49m\u001b[38;5;241;43m0\u001b[39;49m\u001b[43m)\u001b[49m\n\u001b[0;32m     14\u001b[0m \u001b[38;5;28;01mreturn\u001b[39;00m score\n",
      "Cell \u001b[1;32mIn[23], line 3\u001b[0m, in \u001b[0;36mTestByWindowing\u001b[1;34m(n_fft, frame_len, hop_len, win_len, n_chroma)\u001b[0m\n\u001b[0;32m      1\u001b[0m \u001b[38;5;28;01mdef\u001b[39;00m \u001b[38;5;21mTestByWindowing\u001b[39m(n_fft,frame_len,hop_len,win_len,n_chroma):\n\u001b[0;32m      2\u001b[0m     test_features \u001b[38;5;241m=\u001b[39m ExtractFeaturesOnDataCollection(test_data,DOWN_SR,n_fft,frame_len,hop_len,win_len,n_chroma)\n\u001b[1;32m----> 3\u001b[0m     train_features \u001b[38;5;241m=\u001b[39m \u001b[43mExtractFeaturesOnDataCollection\u001b[49m\u001b[43m(\u001b[49m\u001b[43mtrain_data\u001b[49m\u001b[43m,\u001b[49m\u001b[43mDOWN_SR\u001b[49m\u001b[43m,\u001b[49m\u001b[43mn_fft\u001b[49m\u001b[43m,\u001b[49m\u001b[43mframe_len\u001b[49m\u001b[43m,\u001b[49m\u001b[43mhop_len\u001b[49m\u001b[43m,\u001b[49m\u001b[43mwin_len\u001b[49m\u001b[43m,\u001b[49m\u001b[43mn_chroma\u001b[49m\u001b[43m)\u001b[49m\n\u001b[0;32m      4\u001b[0m     accuracy \u001b[38;5;241m=\u001b[39m TrainModel(train_features,train_labels,test_features,test_labels)\n\u001b[0;32m      5\u001b[0m     \u001b[38;5;28;01mreturn\u001b[39;00m accuracy\n",
      "Cell \u001b[1;32mIn[17], line 6\u001b[0m, in \u001b[0;36mExtractFeaturesOnDataCollection\u001b[1;34m(data, sr, n_fft, frame_len, hop_len, win_len, n_chroma)\u001b[0m\n\u001b[0;32m      4\u001b[0m featured_data \u001b[38;5;241m=\u001b[39m np\u001b[38;5;241m.\u001b[39mzeros([np_data\u001b[38;5;241m.\u001b[39mshape[\u001b[38;5;241m0\u001b[39m],\u001b[38;5;28mlen\u001b[39m(features)],dtype\u001b[38;5;241m=\u001b[39mnp\u001b[38;5;241m.\u001b[39mfloat16)\n\u001b[0;32m      5\u001b[0m \u001b[38;5;28;01mfor\u001b[39;00m ii \u001b[38;5;129;01min\u001b[39;00m \u001b[38;5;28mrange\u001b[39m(np_data\u001b[38;5;241m.\u001b[39mshape[\u001b[38;5;241m0\u001b[39m]):\n\u001b[1;32m----> 6\u001b[0m     featured_data[ii,:] \u001b[38;5;241m=\u001b[39m \u001b[43mExtractFeatures_Test\u001b[49m\u001b[43m(\u001b[49m\u001b[43mnp_data\u001b[49m\u001b[43m[\u001b[49m\u001b[43mii\u001b[49m\u001b[43m,\u001b[49m\u001b[43m:\u001b[49m\u001b[43m]\u001b[49m\u001b[43m,\u001b[49m\u001b[43msr\u001b[49m\u001b[43m,\u001b[49m\u001b[43mn_fft\u001b[49m\u001b[43m,\u001b[49m\u001b[43mframe_len\u001b[49m\u001b[43m,\u001b[49m\u001b[43mhop_len\u001b[49m\u001b[43m,\u001b[49m\u001b[43mwin_len\u001b[49m\u001b[43m,\u001b[49m\u001b[43mn_chroma\u001b[49m\u001b[43m)\u001b[49m\n\u001b[0;32m      7\u001b[0m \u001b[38;5;28;01mreturn\u001b[39;00m featured_data\n",
      "Cell \u001b[1;32mIn[22], line 2\u001b[0m, in \u001b[0;36mExtractFeatures_Test\u001b[1;34m(sample, sr, n_fft, frame_len, hop_len, win_len, n_chroma)\u001b[0m\n\u001b[0;32m      1\u001b[0m \u001b[38;5;28;01mdef\u001b[39;00m \u001b[38;5;21mExtractFeatures_Test\u001b[39m(sample,sr,n_fft,frame_len,hop_len,win_len,n_chroma):\n\u001b[1;32m----> 2\u001b[0m     feature \u001b[38;5;241m=\u001b[39m \u001b[43mlibrosa\u001b[49m\u001b[38;5;241;43m.\u001b[39;49m\u001b[43mfeature\u001b[49m\u001b[38;5;241;43m.\u001b[39;49m\u001b[43mspectral_rolloff\u001b[49m\u001b[43m(\u001b[49m\u001b[43my\u001b[49m\u001b[38;5;241;43m=\u001b[39;49m\u001b[43msample\u001b[49m\u001b[43m,\u001b[49m\u001b[43m \u001b[49m\u001b[43mn_fft\u001b[49m\u001b[38;5;241;43m=\u001b[39;49m\u001b[43mn_fft\u001b[49m\u001b[43m,\u001b[49m\u001b[43m \u001b[49m\u001b[43mwin_length\u001b[49m\u001b[38;5;241;43m=\u001b[39;49m\u001b[43mwin_len\u001b[49m\u001b[43m,\u001b[49m\u001b[43m \u001b[49m\u001b[43mhop_length\u001b[49m\u001b[38;5;241;43m=\u001b[39;49m\u001b[43mhop_len\u001b[49m\u001b[43m)\u001b[49m\n\u001b[0;32m      3\u001b[0m     feature_mean \u001b[38;5;241m=\u001b[39m np\u001b[38;5;241m.\u001b[39mmean(feature,axis\u001b[38;5;241m=\u001b[39m\u001b[38;5;241m1\u001b[39m)\n\u001b[0;32m      4\u001b[0m     feature_min \u001b[38;5;241m=\u001b[39m np\u001b[38;5;241m.\u001b[39mmin(feature,axis\u001b[38;5;241m=\u001b[39m\u001b[38;5;241m1\u001b[39m)\n",
      "File \u001b[1;32mc:\\ProgramData\\anaconda3\\envs\\MyEnv\\Lib\\site-packages\\librosa\\feature\\spectral.py:636\u001b[0m, in \u001b[0;36mspectral_rolloff\u001b[1;34m(y, sr, S, n_fft, hop_length, win_length, window, center, pad_mode, freq, roll_percent)\u001b[0m\n\u001b[0;32m    633\u001b[0m \u001b[38;5;28;01mif\u001b[39;00m \u001b[38;5;129;01mnot\u001b[39;00m \u001b[38;5;241m0.0\u001b[39m \u001b[38;5;241m<\u001b[39m roll_percent \u001b[38;5;241m<\u001b[39m \u001b[38;5;241m1.0\u001b[39m:\n\u001b[0;32m    634\u001b[0m     \u001b[38;5;28;01mraise\u001b[39;00m ParameterError(\u001b[38;5;124m\"\u001b[39m\u001b[38;5;124mroll_percent must lie in the range (0, 1)\u001b[39m\u001b[38;5;124m\"\u001b[39m)\n\u001b[1;32m--> 636\u001b[0m S, n_fft \u001b[38;5;241m=\u001b[39m \u001b[43m_spectrogram\u001b[49m\u001b[43m(\u001b[49m\n\u001b[0;32m    637\u001b[0m \u001b[43m    \u001b[49m\u001b[43my\u001b[49m\u001b[38;5;241;43m=\u001b[39;49m\u001b[43my\u001b[49m\u001b[43m,\u001b[49m\n\u001b[0;32m    638\u001b[0m \u001b[43m    \u001b[49m\u001b[43mS\u001b[49m\u001b[38;5;241;43m=\u001b[39;49m\u001b[43mS\u001b[49m\u001b[43m,\u001b[49m\n\u001b[0;32m    639\u001b[0m \u001b[43m    \u001b[49m\u001b[43mn_fft\u001b[49m\u001b[38;5;241;43m=\u001b[39;49m\u001b[43mn_fft\u001b[49m\u001b[43m,\u001b[49m\n\u001b[0;32m    640\u001b[0m \u001b[43m    \u001b[49m\u001b[43mhop_length\u001b[49m\u001b[38;5;241;43m=\u001b[39;49m\u001b[43mhop_length\u001b[49m\u001b[43m,\u001b[49m\n\u001b[0;32m    641\u001b[0m \u001b[43m    \u001b[49m\u001b[43mwin_length\u001b[49m\u001b[38;5;241;43m=\u001b[39;49m\u001b[43mwin_length\u001b[49m\u001b[43m,\u001b[49m\n\u001b[0;32m    642\u001b[0m \u001b[43m    \u001b[49m\u001b[43mwindow\u001b[49m\u001b[38;5;241;43m=\u001b[39;49m\u001b[43mwindow\u001b[49m\u001b[43m,\u001b[49m\n\u001b[0;32m    643\u001b[0m \u001b[43m    \u001b[49m\u001b[43mcenter\u001b[49m\u001b[38;5;241;43m=\u001b[39;49m\u001b[43mcenter\u001b[49m\u001b[43m,\u001b[49m\n\u001b[0;32m    644\u001b[0m \u001b[43m    \u001b[49m\u001b[43mpad_mode\u001b[49m\u001b[38;5;241;43m=\u001b[39;49m\u001b[43mpad_mode\u001b[49m\u001b[43m,\u001b[49m\n\u001b[0;32m    645\u001b[0m \u001b[43m\u001b[49m\u001b[43m)\u001b[49m\n\u001b[0;32m    647\u001b[0m \u001b[38;5;28;01mif\u001b[39;00m \u001b[38;5;129;01mnot\u001b[39;00m np\u001b[38;5;241m.\u001b[39misrealobj(S):\n\u001b[0;32m    648\u001b[0m     \u001b[38;5;28;01mraise\u001b[39;00m ParameterError(\n\u001b[0;32m    649\u001b[0m         \u001b[38;5;124m\"\u001b[39m\u001b[38;5;124mSpectral rolloff is only defined \u001b[39m\u001b[38;5;124m\"\u001b[39m \u001b[38;5;124m\"\u001b[39m\u001b[38;5;124mwith real-valued input\u001b[39m\u001b[38;5;124m\"\u001b[39m\n\u001b[0;32m    650\u001b[0m     )\n",
      "File \u001b[1;32mc:\\ProgramData\\anaconda3\\envs\\MyEnv\\Lib\\site-packages\\librosa\\core\\spectrum.py:2822\u001b[0m, in \u001b[0;36m_spectrogram\u001b[1;34m(y, S, n_fft, hop_length, power, win_length, window, center, pad_mode)\u001b[0m\n\u001b[0;32m   2816\u001b[0m     \u001b[38;5;28;01mif\u001b[39;00m y \u001b[38;5;129;01mis\u001b[39;00m \u001b[38;5;28;01mNone\u001b[39;00m:\n\u001b[0;32m   2817\u001b[0m         \u001b[38;5;28;01mraise\u001b[39;00m ParameterError(\n\u001b[0;32m   2818\u001b[0m             \u001b[38;5;124m\"\u001b[39m\u001b[38;5;124mInput signal must be provided to compute a spectrogram\u001b[39m\u001b[38;5;124m\"\u001b[39m\n\u001b[0;32m   2819\u001b[0m         )\n\u001b[0;32m   2820\u001b[0m     S \u001b[38;5;241m=\u001b[39m (\n\u001b[0;32m   2821\u001b[0m         np\u001b[38;5;241m.\u001b[39mabs(\n\u001b[1;32m-> 2822\u001b[0m             \u001b[43mstft\u001b[49m\u001b[43m(\u001b[49m\n\u001b[0;32m   2823\u001b[0m \u001b[43m                \u001b[49m\u001b[43my\u001b[49m\u001b[43m,\u001b[49m\n\u001b[0;32m   2824\u001b[0m \u001b[43m                \u001b[49m\u001b[43mn_fft\u001b[49m\u001b[38;5;241;43m=\u001b[39;49m\u001b[43mn_fft\u001b[49m\u001b[43m,\u001b[49m\n\u001b[0;32m   2825\u001b[0m \u001b[43m                \u001b[49m\u001b[43mhop_length\u001b[49m\u001b[38;5;241;43m=\u001b[39;49m\u001b[43mhop_length\u001b[49m\u001b[43m,\u001b[49m\n\u001b[0;32m   2826\u001b[0m \u001b[43m                \u001b[49m\u001b[43mwin_length\u001b[49m\u001b[38;5;241;43m=\u001b[39;49m\u001b[43mwin_length\u001b[49m\u001b[43m,\u001b[49m\n\u001b[0;32m   2827\u001b[0m \u001b[43m                \u001b[49m\u001b[43mcenter\u001b[49m\u001b[38;5;241;43m=\u001b[39;49m\u001b[43mcenter\u001b[49m\u001b[43m,\u001b[49m\n\u001b[0;32m   2828\u001b[0m \u001b[43m                \u001b[49m\u001b[43mwindow\u001b[49m\u001b[38;5;241;43m=\u001b[39;49m\u001b[43mwindow\u001b[49m\u001b[43m,\u001b[49m\n\u001b[0;32m   2829\u001b[0m \u001b[43m                \u001b[49m\u001b[43mpad_mode\u001b[49m\u001b[38;5;241;43m=\u001b[39;49m\u001b[43mpad_mode\u001b[49m\u001b[43m,\u001b[49m\n\u001b[0;32m   2830\u001b[0m \u001b[43m            \u001b[49m\u001b[43m)\u001b[49m\n\u001b[0;32m   2831\u001b[0m         )\n\u001b[0;32m   2832\u001b[0m         \u001b[38;5;241m*\u001b[39m\u001b[38;5;241m*\u001b[39m power\n\u001b[0;32m   2833\u001b[0m     )\n\u001b[0;32m   2835\u001b[0m \u001b[38;5;28;01mreturn\u001b[39;00m S, n_fft\n",
      "File \u001b[1;32mc:\\ProgramData\\anaconda3\\envs\\MyEnv\\Lib\\site-packages\\librosa\\core\\spectrum.py:366\u001b[0m, in \u001b[0;36mstft\u001b[1;34m(y, n_fft, hop_length, win_length, window, center, dtype, pad_mode, out)\u001b[0m\n\u001b[0;32m    364\u001b[0m     off_end \u001b[38;5;241m=\u001b[39m y_frames_post\u001b[38;5;241m.\u001b[39mshape[\u001b[38;5;241m-\u001b[39m\u001b[38;5;241m1\u001b[39m]\n\u001b[0;32m    365\u001b[0m     \u001b[38;5;28;01mif\u001b[39;00m off_end \u001b[38;5;241m>\u001b[39m \u001b[38;5;241m0\u001b[39m:\n\u001b[1;32m--> 366\u001b[0m         stft_matrix[\u001b[38;5;241m.\u001b[39m\u001b[38;5;241m.\u001b[39m\u001b[38;5;241m.\u001b[39m, \u001b[38;5;241m-\u001b[39moff_end:] \u001b[38;5;241m=\u001b[39m \u001b[43mfft\u001b[49m\u001b[38;5;241;43m.\u001b[39;49m\u001b[43mrfft\u001b[49m\u001b[43m(\u001b[49m\u001b[43mfft_window\u001b[49m\u001b[43m \u001b[49m\u001b[38;5;241;43m*\u001b[39;49m\u001b[43m \u001b[49m\u001b[43my_frames_post\u001b[49m\u001b[43m,\u001b[49m\u001b[43m \u001b[49m\u001b[43maxis\u001b[49m\u001b[38;5;241;43m=\u001b[39;49m\u001b[38;5;241;43m-\u001b[39;49m\u001b[38;5;241;43m2\u001b[39;49m\u001b[43m)\u001b[49m\n\u001b[0;32m    367\u001b[0m \u001b[38;5;28;01melse\u001b[39;00m:\n\u001b[0;32m    368\u001b[0m     off_start \u001b[38;5;241m=\u001b[39m \u001b[38;5;241m0\u001b[39m\n",
      "File \u001b[1;32mc:\\ProgramData\\anaconda3\\envs\\MyEnv\\Lib\\site-packages\\numpy\\fft\\_pocketfft.py:409\u001b[0m, in \u001b[0;36mrfft\u001b[1;34m(a, n, axis, norm)\u001b[0m\n\u001b[0;32m    407\u001b[0m     n \u001b[38;5;241m=\u001b[39m a\u001b[38;5;241m.\u001b[39mshape[axis]\n\u001b[0;32m    408\u001b[0m inv_norm \u001b[38;5;241m=\u001b[39m _get_forward_norm(n, norm)\n\u001b[1;32m--> 409\u001b[0m output \u001b[38;5;241m=\u001b[39m \u001b[43m_raw_fft\u001b[49m\u001b[43m(\u001b[49m\u001b[43ma\u001b[49m\u001b[43m,\u001b[49m\u001b[43m \u001b[49m\u001b[43mn\u001b[49m\u001b[43m,\u001b[49m\u001b[43m \u001b[49m\u001b[43maxis\u001b[49m\u001b[43m,\u001b[49m\u001b[43m \u001b[49m\u001b[38;5;28;43;01mTrue\u001b[39;49;00m\u001b[43m,\u001b[49m\u001b[43m \u001b[49m\u001b[38;5;28;43;01mTrue\u001b[39;49;00m\u001b[43m,\u001b[49m\u001b[43m \u001b[49m\u001b[43minv_norm\u001b[49m\u001b[43m)\u001b[49m\n\u001b[0;32m    410\u001b[0m \u001b[38;5;28;01mreturn\u001b[39;00m output\n",
      "File \u001b[1;32mc:\\ProgramData\\anaconda3\\envs\\MyEnv\\Lib\\site-packages\\numpy\\fft\\_pocketfft.py:73\u001b[0m, in \u001b[0;36m_raw_fft\u001b[1;34m(a, n, axis, is_real, is_forward, inv_norm)\u001b[0m\n\u001b[0;32m     71\u001b[0m \u001b[38;5;28;01melse\u001b[39;00m:\n\u001b[0;32m     72\u001b[0m     a \u001b[38;5;241m=\u001b[39m swapaxes(a, axis, \u001b[38;5;241m-\u001b[39m\u001b[38;5;241m1\u001b[39m)\n\u001b[1;32m---> 73\u001b[0m     r \u001b[38;5;241m=\u001b[39m \u001b[43mpfi\u001b[49m\u001b[38;5;241;43m.\u001b[39;49m\u001b[43mexecute\u001b[49m\u001b[43m(\u001b[49m\u001b[43ma\u001b[49m\u001b[43m,\u001b[49m\u001b[43m \u001b[49m\u001b[43mis_real\u001b[49m\u001b[43m,\u001b[49m\u001b[43m \u001b[49m\u001b[43mis_forward\u001b[49m\u001b[43m,\u001b[49m\u001b[43m \u001b[49m\u001b[43mfct\u001b[49m\u001b[43m)\u001b[49m\n\u001b[0;32m     74\u001b[0m     r \u001b[38;5;241m=\u001b[39m swapaxes(r, axis, \u001b[38;5;241m-\u001b[39m\u001b[38;5;241m1\u001b[39m)\n\u001b[0;32m     75\u001b[0m \u001b[38;5;28;01mreturn\u001b[39;00m r\n",
      "\u001b[1;31mKeyboardInterrupt\u001b[0m: "
     ]
    }
   ],
   "source": [
    "def TestByWindowing(n_fft,frame_len,hop_len,win_len,n_chroma):\n",
    "    test_features = ExtractFeaturesOnDataCollection(test_data,DOWN_SR,n_fft,frame_len,hop_len,win_len,n_chroma)\n",
    "    train_features = ExtractFeaturesOnDataCollection(train_data,DOWN_SR,n_fft,frame_len,hop_len,win_len,n_chroma)\n",
    "    accuracy = TrainModel(train_features,train_labels,test_features,test_labels)\n",
    "    return accuracy\n",
    "\n",
    "def oWindowing(trial):\n",
    "    n_fft = trial.suggest_int(\"n_fft\", 1, DOWN_SR*4)\n",
    "    #frame_len = trial.suggest_int(\"frame_len\", 1, DOWN_SR*4)\n",
    "    hop_len = trial.suggest_int(\"hop_len\", 1, n_fft)\n",
    "    win_len = trial.suggest_int(\"win_len\", 1, n_fft)\n",
    "    #n_chroma = trial.suggest_int(\"n_chroma\", 1, 128)\n",
    "    score = TestByWindowing(n_fft,0,hop_len,win_len,0)\n",
    "    return score\n",
    "\n",
    "study_name=\"Windowing_18\"\n",
    "study = optuna.create_study(\n",
    "    study_name=study_name,\n",
    "    storage=f'sqlite:///{study_name}.db',  # Specify the storage URL here.\n",
    "    direction='maximize'\n",
    ")\n",
    "\n",
    "study.optimize(oWindowing, n_trials=100)\n",
    "#score = TestByWindowing(study.best_params['thr'])\n",
    "\n",
    "print(f\"Best score: {study.best_value} (params: {study.best_params})\")"
   ]
  }
 ],
 "metadata": {
  "kernelspec": {
   "display_name": "MyEnv",
   "language": "python",
   "name": "python3"
  },
  "language_info": {
   "codemirror_mode": {
    "name": "ipython",
    "version": 3
   },
   "file_extension": ".py",
   "mimetype": "text/x-python",
   "name": "python",
   "nbconvert_exporter": "python",
   "pygments_lexer": "ipython3",
   "version": "3.11.7"
  }
 },
 "nbformat": 4,
 "nbformat_minor": 2
}
