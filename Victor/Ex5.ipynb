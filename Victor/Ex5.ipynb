{
 "cells": [
  {
   "cell_type": "code",
   "execution_count": null,
   "metadata": {},
   "outputs": [],
   "source": [
    "!pip install -U ppscore --upgrade --quiet"
   ]
  },
  {
   "cell_type": "code",
   "execution_count": 1,
   "metadata": {},
   "outputs": [],
   "source": [
    "import pandas as pd\n",
    "import numpy as np\n",
    "import ppscore as pps\n",
    "\n",
    "df = pd.DataFrame()\n",
    "df[\"x\"] = np.random.uniform(-2, 2, 1_000_000)\n",
    "df[\"error\"] = np.random.uniform(-0.5, 0.5, 1_000_000)\n",
    "df[\"y\"] = df[\"x\"] * df[\"x\"] + df[\"error\"]"
   ]
  },
  {
   "cell_type": "code",
   "execution_count": 2,
   "metadata": {},
   "outputs": [
    {
     "data": {
      "text/plain": [
       "{'x': 'x',\n",
       " 'y': 'y',\n",
       " 'ppscore': 0.6698663341954996,\n",
       " 'case': 'regression',\n",
       " 'is_valid_score': True,\n",
       " 'metric': 'mean absolute error',\n",
       " 'baseline_score': 1.0047310149804511,\n",
       " 'model_score': 0.33169553312297273,\n",
       " 'model': DecisionTreeRegressor()}"
      ]
     },
     "execution_count": 2,
     "metadata": {},
     "output_type": "execute_result"
    }
   ],
   "source": [
    "pps.score(df, \"x\", \"y\")"
   ]
  },
  {
   "cell_type": "code",
   "execution_count": 3,
   "metadata": {},
   "outputs": [
    {
     "data": {
      "text/html": [
       "<div>\n",
       "<style scoped>\n",
       "    .dataframe tbody tr th:only-of-type {\n",
       "        vertical-align: middle;\n",
       "    }\n",
       "\n",
       "    .dataframe tbody tr th {\n",
       "        vertical-align: top;\n",
       "    }\n",
       "\n",
       "    .dataframe thead th {\n",
       "        text-align: right;\n",
       "    }\n",
       "</style>\n",
       "<table border=\"1\" class=\"dataframe\">\n",
       "  <thead>\n",
       "    <tr style=\"text-align: right;\">\n",
       "      <th></th>\n",
       "      <th>x</th>\n",
       "      <th>y</th>\n",
       "      <th>ppscore</th>\n",
       "      <th>case</th>\n",
       "      <th>is_valid_score</th>\n",
       "      <th>metric</th>\n",
       "      <th>baseline_score</th>\n",
       "      <th>model_score</th>\n",
       "      <th>model</th>\n",
       "    </tr>\n",
       "  </thead>\n",
       "  <tbody>\n",
       "    <tr>\n",
       "      <th>0</th>\n",
       "      <td>x</td>\n",
       "      <td>y</td>\n",
       "      <td>0.669866</td>\n",
       "      <td>regression</td>\n",
       "      <td>True</td>\n",
       "      <td>mean absolute error</td>\n",
       "      <td>1.004731</td>\n",
       "      <td>0.331696</td>\n",
       "      <td>DecisionTreeRegressor()</td>\n",
       "    </tr>\n",
       "    <tr>\n",
       "      <th>1</th>\n",
       "      <td>error</td>\n",
       "      <td>y</td>\n",
       "      <td>0.000000</td>\n",
       "      <td>regression</td>\n",
       "      <td>True</td>\n",
       "      <td>mean absolute error</td>\n",
       "      <td>1.004731</td>\n",
       "      <td>1.327260</td>\n",
       "      <td>DecisionTreeRegressor()</td>\n",
       "    </tr>\n",
       "  </tbody>\n",
       "</table>\n",
       "</div>"
      ],
      "text/plain": [
       "       x  y   ppscore        case  is_valid_score               metric  \\\n",
       "0      x  y  0.669866  regression            True  mean absolute error   \n",
       "1  error  y  0.000000  regression            True  mean absolute error   \n",
       "\n",
       "   baseline_score  model_score                    model  \n",
       "0        1.004731     0.331696  DecisionTreeRegressor()  \n",
       "1        1.004731     1.327260  DecisionTreeRegressor()  "
      ]
     },
     "execution_count": 3,
     "metadata": {},
     "output_type": "execute_result"
    }
   ],
   "source": [
    "pps.predictors(df, \"y\")"
   ]
  },
  {
   "cell_type": "code",
   "execution_count": 4,
   "metadata": {},
   "outputs": [
    {
     "data": {
      "text/html": [
       "<div>\n",
       "<style scoped>\n",
       "    .dataframe tbody tr th:only-of-type {\n",
       "        vertical-align: middle;\n",
       "    }\n",
       "\n",
       "    .dataframe tbody tr th {\n",
       "        vertical-align: top;\n",
       "    }\n",
       "\n",
       "    .dataframe thead th {\n",
       "        text-align: right;\n",
       "    }\n",
       "</style>\n",
       "<table border=\"1\" class=\"dataframe\">\n",
       "  <thead>\n",
       "    <tr style=\"text-align: right;\">\n",
       "      <th></th>\n",
       "      <th>x</th>\n",
       "      <th>y</th>\n",
       "      <th>ppscore</th>\n",
       "      <th>case</th>\n",
       "      <th>is_valid_score</th>\n",
       "      <th>metric</th>\n",
       "      <th>baseline_score</th>\n",
       "      <th>model_score</th>\n",
       "      <th>model</th>\n",
       "    </tr>\n",
       "  </thead>\n",
       "  <tbody>\n",
       "    <tr>\n",
       "      <th>0</th>\n",
       "      <td>x</td>\n",
       "      <td>x</td>\n",
       "      <td>1.000000</td>\n",
       "      <td>predict_itself</td>\n",
       "      <td>True</td>\n",
       "      <td>None</td>\n",
       "      <td>0.000000</td>\n",
       "      <td>1.000000</td>\n",
       "      <td>None</td>\n",
       "    </tr>\n",
       "    <tr>\n",
       "      <th>1</th>\n",
       "      <td>x</td>\n",
       "      <td>error</td>\n",
       "      <td>0.000000</td>\n",
       "      <td>regression</td>\n",
       "      <td>True</td>\n",
       "      <td>mean absolute error</td>\n",
       "      <td>0.247255</td>\n",
       "      <td>0.331728</td>\n",
       "      <td>DecisionTreeRegressor()</td>\n",
       "    </tr>\n",
       "    <tr>\n",
       "      <th>2</th>\n",
       "      <td>x</td>\n",
       "      <td>y</td>\n",
       "      <td>0.669866</td>\n",
       "      <td>regression</td>\n",
       "      <td>True</td>\n",
       "      <td>mean absolute error</td>\n",
       "      <td>1.004731</td>\n",
       "      <td>0.331696</td>\n",
       "      <td>DecisionTreeRegressor()</td>\n",
       "    </tr>\n",
       "    <tr>\n",
       "      <th>3</th>\n",
       "      <td>error</td>\n",
       "      <td>x</td>\n",
       "      <td>0.000000</td>\n",
       "      <td>regression</td>\n",
       "      <td>True</td>\n",
       "      <td>mean absolute error</td>\n",
       "      <td>0.979151</td>\n",
       "      <td>1.284539</td>\n",
       "      <td>DecisionTreeRegressor()</td>\n",
       "    </tr>\n",
       "    <tr>\n",
       "      <th>4</th>\n",
       "      <td>error</td>\n",
       "      <td>error</td>\n",
       "      <td>1.000000</td>\n",
       "      <td>predict_itself</td>\n",
       "      <td>True</td>\n",
       "      <td>None</td>\n",
       "      <td>0.000000</td>\n",
       "      <td>1.000000</td>\n",
       "      <td>None</td>\n",
       "    </tr>\n",
       "    <tr>\n",
       "      <th>5</th>\n",
       "      <td>error</td>\n",
       "      <td>y</td>\n",
       "      <td>0.000000</td>\n",
       "      <td>regression</td>\n",
       "      <td>True</td>\n",
       "      <td>mean absolute error</td>\n",
       "      <td>1.004731</td>\n",
       "      <td>1.327260</td>\n",
       "      <td>DecisionTreeRegressor()</td>\n",
       "    </tr>\n",
       "    <tr>\n",
       "      <th>6</th>\n",
       "      <td>y</td>\n",
       "      <td>x</td>\n",
       "      <td>0.000000</td>\n",
       "      <td>regression</td>\n",
       "      <td>True</td>\n",
       "      <td>mean absolute error</td>\n",
       "      <td>0.979151</td>\n",
       "      <td>1.095350</td>\n",
       "      <td>DecisionTreeRegressor()</td>\n",
       "    </tr>\n",
       "    <tr>\n",
       "      <th>7</th>\n",
       "      <td>y</td>\n",
       "      <td>error</td>\n",
       "      <td>0.000000</td>\n",
       "      <td>regression</td>\n",
       "      <td>True</td>\n",
       "      <td>mean absolute error</td>\n",
       "      <td>0.247255</td>\n",
       "      <td>0.283735</td>\n",
       "      <td>DecisionTreeRegressor()</td>\n",
       "    </tr>\n",
       "    <tr>\n",
       "      <th>8</th>\n",
       "      <td>y</td>\n",
       "      <td>y</td>\n",
       "      <td>1.000000</td>\n",
       "      <td>predict_itself</td>\n",
       "      <td>True</td>\n",
       "      <td>None</td>\n",
       "      <td>0.000000</td>\n",
       "      <td>1.000000</td>\n",
       "      <td>None</td>\n",
       "    </tr>\n",
       "  </tbody>\n",
       "</table>\n",
       "</div>"
      ],
      "text/plain": [
       "       x      y   ppscore            case  is_valid_score  \\\n",
       "0      x      x  1.000000  predict_itself            True   \n",
       "1      x  error  0.000000      regression            True   \n",
       "2      x      y  0.669866      regression            True   \n",
       "3  error      x  0.000000      regression            True   \n",
       "4  error  error  1.000000  predict_itself            True   \n",
       "5  error      y  0.000000      regression            True   \n",
       "6      y      x  0.000000      regression            True   \n",
       "7      y  error  0.000000      regression            True   \n",
       "8      y      y  1.000000  predict_itself            True   \n",
       "\n",
       "                metric  baseline_score  model_score                    model  \n",
       "0                 None        0.000000     1.000000                     None  \n",
       "1  mean absolute error        0.247255     0.331728  DecisionTreeRegressor()  \n",
       "2  mean absolute error        1.004731     0.331696  DecisionTreeRegressor()  \n",
       "3  mean absolute error        0.979151     1.284539  DecisionTreeRegressor()  \n",
       "4                 None        0.000000     1.000000                     None  \n",
       "5  mean absolute error        1.004731     1.327260  DecisionTreeRegressor()  \n",
       "6  mean absolute error        0.979151     1.095350  DecisionTreeRegressor()  \n",
       "7  mean absolute error        0.247255     0.283735  DecisionTreeRegressor()  \n",
       "8                 None        0.000000     1.000000                     None  "
      ]
     },
     "execution_count": 4,
     "metadata": {},
     "output_type": "execute_result"
    }
   ],
   "source": [
    "pps.matrix(df)"
   ]
  },
  {
   "cell_type": "code",
   "execution_count": 5,
   "metadata": {},
   "outputs": [
    {
     "data": {
      "text/plain": [
       "<Axes: xlabel='x', ylabel='ppscore'>"
      ]
     },
     "execution_count": 5,
     "metadata": {},
     "output_type": "execute_result"
    },
    {
     "data": {
      "image/png": "[encoded data removed]",
      "text/plain": [
       "<Figure size 640x480 with 1 Axes>"
      ]
     },
     "metadata": {},
     "output_type": "display_data"
    }
   ],
   "source": [
    "import seaborn as sns\n",
    "predictors_df = pps.predictors(df, y=\"y\")\n",
    "sns.barplot(data=predictors_df, x=\"x\", y=\"ppscore\")"
   ]
  },
  {
   "cell_type": "code",
   "execution_count": 6,
   "metadata": {},
   "outputs": [
    {
     "data": {
      "text/plain": [
       "<Axes: xlabel='x', ylabel='y'>"
      ]
     },
     "execution_count": 6,
     "metadata": {},
     "output_type": "execute_result"
    },
    {
     "data": {
      "image/png": "[encoded data removed]",
      "text/plain": [
       "<Figure size 640x480 with 2 Axes>"
      ]
     },
     "metadata": {},
     "output_type": "display_data"
    }
   ],
   "source": [
    "import seaborn as sns\n",
    "matrix_df = pps.matrix(df)[['x', 'y', 'ppscore']].pivot(columns='x', index='y', values='ppscore')\n",
    "sns.heatmap(matrix_df, vmin=0, vmax=1, cmap=\"Blues\", linewidths=0.5, annot=True)"
   ]
  },
  {
   "cell_type": "code",
   "execution_count": null,
   "metadata": {},
   "outputs": [],
   "source": []
  },
  {
   "cell_type": "code",
   "execution_count": null,
   "metadata": {},
   "outputs": [],
   "source": []
  },
  {
   "cell_type": "code",
   "execution_count": 5,
   "metadata": {},
   "outputs": [],
   "source": [
    "import numpy as np\n",
    "import pandas as pd\n",
    "from tqdm.auto import tqdm\n",
    "import os\n",
    "import sys\n",
    "import optuna\n",
    "import opendatasets as od\n",
    "import csv\n",
    "import matplotlib.pyplot as plt\n",
    "import seaborn as sns\n",
    "sns.set_style('darkgrid')\n",
    "import seaborn as sns\n",
    "import noisereduce as nr\n",
    "from IPython.display import Audio\n",
    "import librosa\n",
    "import librosa.display\n",
    "import wave\n",
    "#from numba import jit, cuda \n",
    "#import torch\n",
    "#import time\n",
    "\n",
    "from sklearn.ensemble import RandomForestClassifier\n",
    "from sklearn.preprocessing import StandardScaler, OneHotEncoder\n",
    "from sklearn.metrics import confusion_matrix, classification_report\n",
    "from sklearn.model_selection import train_test_split\n",
    "\n",
    "sys.path.append('C:\\Study\\TechnionAI\\Victor\\VoiceEmotionalAnalysis')\n",
    "import prjLib as lib\n",
    "\n",
    "import warnings\n",
    "warnings.filterwarnings ('ignore')"
   ]
  },
  {
   "cell_type": "code",
   "execution_count": 6,
   "metadata": {},
   "outputs": [],
   "source": [
    "# Parameters\n",
    "\n",
    "FRAME_LEN = 4096\n",
    "HOP_LEN = 2048\n",
    "N_MFCC = 14\n",
    "\n",
    "DOWN_SR = 4410 # 22050\n",
    "SECS = 3\n",
    "MAX_FILES = 13000\n",
    "\n",
    "ravdess = ['RAVDESS','../data/ravdess-emotional-speech-audio']\n",
    "tess = ['TESS','../data/toronto-emotional-speech-set-tess']\n",
    "cremad = ['CREMA-D','../data/cremad/AudioWAV']\n",
    "savee = ['SAVEE','../data/savee-database/AudioData']\n",
    "data_paths = [ravdess,tess,cremad,savee] # ravdess,tess,cremad,savee"
   ]
  },
  {
   "cell_type": "code",
   "execution_count": 7,
   "metadata": {},
   "outputs": [],
   "source": [
    "#@jit(target_backend='cuda')\t\n",
    "def TrainModel(train_data,train_labels,test_data,test_labels):\n",
    "    oModel = RandomForestClassifier(n_estimators=100,min_samples_split=6,random_state=1,n_jobs=-1)\n",
    "    oModel.fit(train_data,train_labels)\n",
    "    accuracy = oModel.score(test_data,test_labels)\n",
    "    return accuracy"
   ]
  },
  {
   "cell_type": "code",
   "execution_count": 8,
   "metadata": {},
   "outputs": [],
   "source": [
    "#@jit(target_backend='cuda')\t\n",
    "def ExtractLabel(audio_file_path,dataset_name):\n",
    "    emotion = -1\n",
    "    gender = 0\n",
    "    if (dataset_name == 'RAVDESS'):\n",
    "        emotion = int(audio_file_path[7:8]) - 1\n",
    "        gender = int(audio_file_path[18:20]) & 0x1\n",
    "    if (dataset_name == 'TESS'):\n",
    "        if '_neutral' in audio_file_path:\n",
    "            emotion = 0\n",
    "        if '_happy' in audio_file_path:\n",
    "            emotion = 2\n",
    "        if '_sad' in audio_file_path:\n",
    "            emotion = 3\n",
    "        if '_angry' in audio_file_path:\n",
    "            emotion = 4\n",
    "        if '_fear' in audio_file_path:\n",
    "            emotion = 5\n",
    "        if '_disgust' in audio_file_path:\n",
    "            emotion = 6\n",
    "        if '_ps' in audio_file_path:\n",
    "            emotion = 7\n",
    "        if 'OAF_' in audio_file_path:\n",
    "            gender = 1\n",
    "        if 'YAF_' in audio_file_path:\n",
    "            gender = 0\n",
    "    if (dataset_name == 'CREMA-D'):\n",
    "        if '_NEU_' in audio_file_path:\n",
    "            emotion = 0\n",
    "        if '_HAP_' in audio_file_path:\n",
    "            emotion = 2\n",
    "        if '_SAD_' in audio_file_path:\n",
    "            emotion = 3\n",
    "        if '_ANG_' in audio_file_path:\n",
    "            emotion = 4\n",
    "        if '_FEA_' in audio_file_path:\n",
    "            emotion = 5\n",
    "        if '_DIS_' in audio_file_path:\n",
    "            emotion = 6\n",
    "        speaker_id = int(audio_file_path[0:4])\n",
    "        # df = pd.read_csv('data/cremad/VideoDemographics.csv')\n",
    "        # df = df.loc[df['ActorID'] == speaker_id]\n",
    "        # gender = int(df['Sex'] == 'Male')\n",
    "    if (dataset_name == 'SAVEE'):\n",
    "        if 'n' in audio_file_path:\n",
    "            emotion = 0\n",
    "        if 'h' in audio_file_path:\n",
    "            emotion = 2\n",
    "        if 'sa' in audio_file_path:\n",
    "            emotion = 3\n",
    "        if 'a' in audio_file_path:\n",
    "            emotion = 4\n",
    "        if 'f' in audio_file_path:\n",
    "            emotion = 5\n",
    "        if 'd' in audio_file_path:\n",
    "            emotion = 6\n",
    "        if 'su' in audio_file_path:\n",
    "            emotion = 7\n",
    "        gender = 1\n",
    "    return emotion # np.concatenate(np.array([emotion,gender]).reshape(1,2),axis=0)"
   ]
  },
  {
   "cell_type": "code",
   "execution_count": 9,
   "metadata": {},
   "outputs": [
    {
     "data": {
      "application/vnd.jupyter.widget-view+json": {
       "model_id": "97e5f3e5fb0d4f0eb2637321cd3ea190",
       "version_major": 2,
       "version_minor": 0
      },
      "text/plain": [
       "Collecting Datasets:   0%|          | 0/4 [00:00<?, ?it/s]"
      ]
     },
     "metadata": {},
     "output_type": "display_data"
    },
    {
     "data": {
      "application/vnd.jupyter.widget-view+json": {
       "model_id": "a96412f7c51e47d6b9528049d64a622b",
       "version_major": 2,
       "version_minor": 0
      },
      "text/plain": [
       "Processing RAVDESS audio files:   0%|          | 0/25 [00:00<?, ?file/s]"
      ]
     },
     "metadata": {},
     "output_type": "display_data"
    },
    {
     "data": {
      "application/vnd.jupyter.widget-view+json": {
       "model_id": "05ba0db19dca4c379bac6d51a267f189",
       "version_major": 2,
       "version_minor": 0
      },
      "text/plain": [
       "Processing TESS audio files:   0%|          | 0/16 [00:00<?, ?file/s]"
      ]
     },
     "metadata": {},
     "output_type": "display_data"
    },
    {
     "data": {
      "application/vnd.jupyter.widget-view+json": {
       "model_id": "a9a838ab952b4e459a2455b0835fdbc7",
       "version_major": 2,
       "version_minor": 0
      },
      "text/plain": [
       "Processing CREMA-D audio files:   0%|          | 0/1 [00:00<?, ?file/s]"
      ]
     },
     "metadata": {},
     "output_type": "display_data"
    },
    {
     "data": {
      "application/vnd.jupyter.widget-view+json": {
       "model_id": "78e159ce576e459c8d2b019447ec07ad",
       "version_major": 2,
       "version_minor": 0
      },
      "text/plain": [
       "Processing SAVEE audio files:   0%|          | 0/5 [00:00<?, ?file/s]"
      ]
     },
     "metadata": {},
     "output_type": "display_data"
    },
    {
     "name": "stdout",
     "output_type": "stream",
     "text": [
      "Data with total 12162 audio samples collected, with 26460 samples each.\n"
     ]
    }
   ],
   "source": [
    "# Preprocessing:\n",
    "# Collect Data from audio files\n",
    "ii=0\n",
    "sample_data = np.zeros([MAX_FILES,SECS*2*DOWN_SR],dtype=np.float32)  # stores the features\n",
    "labels = np.zeros([MAX_FILES,1],dtype=np.int8)  # stores the labels\n",
    "for data_path in tqdm(data_paths,desc=\"Collecting Datasets\"):\n",
    "    root_dir = data_path[1]\n",
    "    cpt = sum([len(d) for r, d, files in os.walk(root_dir)])+1\n",
    "    for subdirs, dirs, files in tqdm(os.walk(root_dir), total=cpt, desc=f'Processing {data_path[0]} audio files', unit=\"file\"):\n",
    "        for file in files:\n",
    "            if not '.wav' in file:\n",
    "                continue\n",
    "            audio_file_path = os.path.join(subdirs, file)\n",
    "            sample, sr = librosa.load(audio_file_path,sr=DOWN_SR)\n",
    "            sample_data[ii,:] = lib.FixSamples(sample,DOWN_SR,SECS)\n",
    "            labels[ii,:] = ExtractLabel(file,data_path[0])\n",
    "            ii += 1\n",
    "sample_data = sample_data[:ii,:]\n",
    "labels = labels[:ii,:]\n",
    "print(f'Data with total {sample_data.shape[0]} audio samples collected, with {sample_data.shape[1]} samples each.')"
   ]
  },
  {
   "cell_type": "code",
   "execution_count": 10,
   "metadata": {},
   "outputs": [],
   "source": [
    "df_sample_data = lib.Numpy2Pandas(sample_data)\n",
    "ds_labels = pd.DataFrame(labels, columns=['Emotion'])"
   ]
  },
  {
   "cell_type": "code",
   "execution_count": 11,
   "metadata": {},
   "outputs": [],
   "source": [
    "ds_labels['Emotion'].replace({0:0, 1:0, 2:1, 3:2, 4:3, 5:4, 6:5, 7:1}, inplace=True)"
   ]
  },
  {
   "cell_type": "code",
   "execution_count": 12,
   "metadata": {},
   "outputs": [
    {
     "data": {
      "image/png": "[encoded data removed]",
      "text/plain": [
       "<Figure size 1400x600 with 2 Axes>"
      ]
     },
     "metadata": {},
     "output_type": "display_data"
    }
   ],
   "source": [
    "# Data samples split\n",
    "train_data, test_data, train_labels, test_labels = train_test_split(df_sample_data, ds_labels, train_size = 0.8, random_state = 512)\n",
    "train_labels.reset_index(drop=True,inplace=True)\n",
    "test_labels.reset_index(drop=True,inplace=True)\n",
    "lib.PlotSplitedDataHistogram(train_labels, test_labels)"
   ]
  },
  {
   "cell_type": "code",
   "execution_count": 13,
   "metadata": {},
   "outputs": [],
   "source": [
    "#@jit(target_backend='cuda')\t\n",
    "def Normalize(train_data,test_data):\n",
    "    scaler = StandardScaler()\n",
    "    train_data = scaler.fit_transform(train_data)\n",
    "    test_data = scaler.transform(test_data)\n",
    "    train_data = lib.Numpy2Pandas(train_data)\n",
    "    test_data = lib.Numpy2Pandas(test_data)\n",
    "    return train_data,test_data"
   ]
  },
  {
   "cell_type": "code",
   "execution_count": 14,
   "metadata": {},
   "outputs": [],
   "source": [
    "train_data,test_data = Normalize(train_data,test_data)"
   ]
  },
  {
   "cell_type": "code",
   "execution_count": 15,
   "metadata": {},
   "outputs": [],
   "source": [
    "#@jit(target_backend='cuda')\t\n",
    "def ExtractFeatures_Test(sample,sr,n_fft,frame_len,hop_len,win_len):\n",
    "    feature = librosa.feature.chroma_cqt(y=sample, sr=sr, hop_length=hop_len)\n",
    "    feature_mean = np.mean(feature,axis=1)\n",
    "    feature_min = np.min(feature,axis=1)\n",
    "    feature_max = np.max(feature,axis=1)\n",
    "    features = np.concatenate((feature_mean, feature_min, feature_max),axis=0)\n",
    "    return features"
   ]
  },
  {
   "cell_type": "code",
   "execution_count": 19,
   "metadata": {},
   "outputs": [],
   "source": [
    "def ExtractFeaturesOnDataCollection(data,sr,n_fft,frame_len,hop_len,win_len):\n",
    "    np_data = data.to_numpy()\n",
    "    features = ExtractFeatures_Test(np_data[0,:],sr,n_fft,frame_len,hop_len,win_len)\n",
    "    featured_data = np.zeros([np_data.shape[0],len(features)],dtype=np.float16)\n",
    "    for ii in tqdm(range(np_data.shape[0]), desc=f'Extracting Features from audio samples'):\n",
    "        featured_data[ii,:] = ExtractFeatures_Test(np_data[ii,:],sr,n_fft,frame_len,hop_len,win_len)\n",
    "    return featured_data"
   ]
  },
  {
   "cell_type": "code",
   "execution_count": null,
   "metadata": {},
   "outputs": [],
   "source": [
    "#@jit(target_backend='cuda')\t\n",
    "def TestByWindowing(n_fft,frame_len,hop_len,win_len):\n",
    "    test_features = ExtractFeaturesOnDataCollection(test_data,DOWN_SR,n_fft,frame_len,hop_len,win_len)\n",
    "    train_features = ExtractFeaturesOnDataCollection(train_data,DOWN_SR,n_fft,frame_len,hop_len,win_len)\n",
    "    accuracy = TrainModel(train_features,train_labels,test_features,test_labels)\n",
    "    return accuracy\n",
    "\n",
    "#@jit(target_backend='cuda')\t\n",
    "def oWindowing(trial):\n",
    "    #n_fft = trial.suggest_int(\"n_fft\", 1, 128)\n",
    "    #frame_len = trial.suggest_int(\"frame_len\", 1, DOWN_SR*4)\n",
    "    hop_len = trial.suggest_int(\"hop_len\", 1, DOWN_SR*4)\n",
    "    #win_len = trial.suggest_int(\"win_len\", 1, 64)\n",
    "    #n_mfcc = trial.suggest_int(\"n_mfcc\", 1, 128)\n",
    "    score = TestByWindowing(0,0,hop_len,0)\n",
    "    return score\n",
    "\n",
    "study_name=\"Windowing_28\"\n",
    "study = optuna.create_study(\n",
    "    study_name=study_name,\n",
    "    storage=f'sqlite:///{study_name}.db',  # Specify the storage URL here.\n",
    "    direction='maximize'\n",
    ")\n",
    "\n",
    "study.optimize(oWindowing, n_trials=100)\n",
    "#score = TestByWindowing(study.best_params['thr'])\n",
    "\n",
    "print(f\"Best score: {study.best_value} (params: {study.best_params})\")"
   ]
  },
  {
   "cell_type": "code",
   "execution_count": null,
   "metadata": {},
   "outputs": [],
   "source": [
    "test_features = ExtractFeaturesOnDataCollection(test_data,DOWN_SR,FRAME_LEN,FRAME_LEN,HOP_LEN,FRAME_LEN)\n",
    "print(f'Test data with {test_features.shape[0]} samples and {test_features.shape[1]} features.')"
   ]
  },
  {
   "cell_type": "code",
   "execution_count": null,
   "metadata": {},
   "outputs": [],
   "source": [
    "train_features = ExtractFeaturesOnDataCollection(train_data,DOWN_SR,FRAME_LEN,FRAME_LEN,HOP_LEN,FRAME_LEN)\n",
    "print(f'Train data with {train_features.shape[0]} samples and {train_features.shape[1]} features.')"
   ]
  },
  {
   "cell_type": "code",
   "execution_count": null,
   "metadata": {},
   "outputs": [],
   "source": [
    "report, score, model = lib.TestClassificationModel(train_features,train_labels,test_features,test_labels,3, paramC=1,kernelType='rbf',n_estimators=100,min_samples_split=6,random_state=1, plot=True)"
   ]
  }
 ],
 "metadata": {
  "kernelspec": {
   "display_name": "MyEnv",
   "language": "python",
   "name": "python3"
  },
  "language_info": {
   "codemirror_mode": {
    "name": "ipython",
    "version": 3
   },
   "file_extension": ".py",
   "mimetype": "text/x-python",
   "name": "python",
   "nbconvert_exporter": "python",
   "pygments_lexer": "ipython3",
   "version": "3.11.7"
  }
 },
 "nbformat": 4,
 "nbformat_minor": 2
}
