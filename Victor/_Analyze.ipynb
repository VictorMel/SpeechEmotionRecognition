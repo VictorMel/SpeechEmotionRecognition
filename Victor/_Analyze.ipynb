{
 "cells": [
  {
   "cell_type": "code",
   "execution_count": null,
   "metadata": {},
   "outputs": [],
   "source": [
    "# Install Packages\n",
    "!pip install kaggle --upgrade --quiet\n",
    "!pip install opendatasets --upgrade --quiet\n",
    "!pip install librosa --upgrade --quiet\n",
    "!pip install noisereduce --upgrade --quiet"
   ]
  },
  {
   "cell_type": "code",
   "execution_count": null,
   "metadata": {},
   "outputs": [],
   "source": [
    "import pandas as pd\n",
    "import numpy as np\n",
    "from tqdm.auto import tqdm\n",
    "import os\n",
    "import opendatasets as od\n",
    "import csv\n",
    "\n",
    "import matplotlib.pyplot as plt\n",
    "import seaborn as sns\n",
    "sns.set_style('darkgrid')\n",
    "import seaborn as sns\n",
    "import noisereduce as nr\n",
    "from IPython.display import Audio\n",
    "import librosa\n",
    "import librosa.display\n",
    "import wave\n",
    "\n",
    "from sklearn.preprocessing import StandardScaler, OneHotEncoder\n",
    "from sklearn.metrics import confusion_matrix, classification_report\n",
    "from sklearn.model_selection import train_test_split\n",
    "\n",
    "import prjLib as lib\n",
    "import VictorLib as vic\n",
    "\n",
    "import warnings\n",
    "warnings.filterwarnings ('ignore')"
   ]
  },
  {
   "cell_type": "code",
   "execution_count": null,
   "metadata": {},
   "outputs": [],
   "source": [
    "# Parameters\n",
    "\n",
    "FRAME_LEN = 2048 # 4096\n",
    "HOP_LEN = 512 # 2048\n",
    "N = 128\n",
    "\n",
    "FIGX = 14\n",
    "FIGY = 2"
   ]
  },
  {
   "cell_type": "code",
   "execution_count": null,
   "metadata": {},
   "outputs": [],
   "source": [
    "sample_n, sr = librosa.load('ravdess-emotional-speech-audio/audio_speech_actors_01-24/Actor_01/03-01-01-01-01-01-01.wav')\n",
    "display(sample_n.shape)\n",
    "Audio(data=sample_n, rate=sr)"
   ]
  },
  {
   "cell_type": "code",
   "execution_count": null,
   "metadata": {},
   "outputs": [],
   "source": [
    "sample_f, sr = librosa.load('ravdess-emotional-speech-audio/audio_speech_actors_01-24/Actor_01/03-01-06-01-01-01-01.wav')\n",
    "display(sample_f.shape)\n",
    "Audio(data=sample_f, rate=sr)"
   ]
  },
  {
   "cell_type": "code",
   "execution_count": null,
   "metadata": {},
   "outputs": [],
   "source": [
    "def PlotWave(sample,sr,sample_name):\n",
    "    t = np.linspace(0,sample.size/sr,sample.size)\n",
    "    plt.plot(t,sample,label=sample_name,alpha=0.75)\n",
    "\n",
    "def PlotFrames(sample,sample_name,hop_len):\n",
    "    ft = librosa.frames_to_time(frames=range(len(sample)),hop_length=hop_len)\n",
    "    plt.plot(ft,sample,label=sample_name,alpha=0.75)"
   ]
  },
  {
   "cell_type": "code",
   "execution_count": null,
   "metadata": {},
   "outputs": [],
   "source": [
    "plt.figure(figsize=(FIGX,FIGY))\n",
    "plt.title('Waveform')\n",
    "ax = plt.subplot(1,2,1)\n",
    "sample_n, sr = librosa.load('ravdess-emotional-speech-audio/audio_speech_actors_01-24/Actor_01/03-01-01-01-01-01-01.wav')\n",
    "sample_n = librosa.resample(sample_n, orig_sr=sr, target_sr=8000)\n",
    "PlotWave(sample_n,sr,'sample_n')\n",
    "plt.legend()\n",
    "ax = plt.subplot(1,2,2)\n",
    "sample_f, sr = librosa.load('ravdess-emotional-speech-audio/audio_speech_actors_01-24/Actor_01/03-01-06-01-01-01-01.wav')\n",
    "sample_f = librosa.resample(sample_f, orig_sr=sr, target_sr=8000)\n",
    "PlotWave(sample_f,sr,'sample_f')\n",
    "plt.legend()\n",
    "plt.show()\n",
    "\n",
    "plt.figure(figsize=(FIGX,FIGY))\n",
    "plt.title('ZCR')\n",
    "ax = plt.subplot(1,2,1)\n",
    "PlotFrames(librosa.feature.zero_crossing_rate(y=sample_n,frame_length=FRAME_LEN,hop_length=HOP_LEN).T,'zcr_n',HOP_LEN)\n",
    "plt.legend()\n",
    "ax = plt.subplot(1,2,2)\n",
    "PlotFrames(librosa.feature.zero_crossing_rate(y=sample_f,frame_length=FRAME_LEN,hop_length=HOP_LEN).T,'zcr_f',HOP_LEN)\n",
    "plt.legend()\n",
    "plt.show()\n",
    "\n",
    "plt.figure(figsize=(FIGX,FIGY))\n",
    "plt.title('RMS')\n",
    "ax = plt.subplot(1,2,1)\n",
    "PlotFrames(librosa.feature.rms(y=sample_n,frame_length=FRAME_LEN,hop_length=HOP_LEN).T,'rms_n',HOP_LEN)\n",
    "plt.legend()\n",
    "ax = plt.subplot(1,2,2)\n",
    "PlotFrames(librosa.feature.rms(y=sample_f,frame_length=FRAME_LEN,hop_length=HOP_LEN).T,'rms_f',HOP_LEN)\n",
    "plt.legend()\n",
    "plt.show()\n",
    "\n",
    "plt.figure(figsize=(FIGX,FIGY))\n",
    "plt.title('STFT')\n",
    "ax = plt.subplot(1,2,1)\n",
    "librosa.display.specshow(librosa.amplitude_to_db(np.abs(librosa.stft(y=sample_n,n_fft=FRAME_LEN,hop_length=HOP_LEN)),ref=np.max),y_axis='log',x_axis='time',ax=ax)\n",
    "plt.legend()\n",
    "ax = plt.subplot(1,2,2)\n",
    "librosa.display.specshow(librosa.amplitude_to_db(np.abs(librosa.stft(y=sample_f,n_fft=FRAME_LEN,hop_length=HOP_LEN)),ref=np.max),y_axis='log',x_axis='time',ax=ax)\n",
    "plt.legend()\n",
    "plt.show()\n",
    "\n",
    "plt.figure(figsize=(FIGX,FIGY))\n",
    "plt.title('Mel Spectrum')\n",
    "ax = plt.subplot(1,2,1)\n",
    "librosa.display.specshow(librosa.amplitude_to_db(librosa.feature.melspectrogram(y=sample_n,n_fft=FRAME_LEN,hop_length=HOP_LEN,n_mels=N),ref=np.max),y_axis='mel',x_axis='time',ax=ax)\n",
    "plt.legend()\n",
    "ax = plt.subplot(1,2,2)\n",
    "librosa.display.specshow(librosa.amplitude_to_db(librosa.feature.melspectrogram(y=sample_f,n_fft=FRAME_LEN,hop_length=HOP_LEN,n_mels=N),ref=np.max),y_axis='mel',x_axis='time',ax=ax)\n",
    "plt.legend()\n",
    "plt.show()\n",
    "\n",
    "plt.figure(figsize=(FIGX,FIGY))\n",
    "plt.title('Mel')\n",
    "ax = plt.subplot(1,2,1)\n",
    "librosa.display.specshow(librosa.feature.mfcc(y=sample_n,sr=sr,n_mfcc=13,n_fft=FRAME_LEN,hop_length=HOP_LEN), y_axis='log', x_axis='time',sr=sr)\n",
    "plt.legend()\n",
    "ax = plt.subplot(1,2,2)\n",
    "librosa.display.specshow(librosa.feature.mfcc(y=sample_f,sr=sr,n_mfcc=13,n_fft=FRAME_LEN,hop_length=HOP_LEN), y_axis='log', x_axis='time',sr=sr)\n",
    "plt.legend()\n",
    "plt.show()\n"
   ]
  }
 ],
 "metadata": {
  "language_info": {
   "name": "python"
  }
 },
 "nbformat": 4,
 "nbformat_minor": 2
}
